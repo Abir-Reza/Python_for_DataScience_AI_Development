{
  "nbformat": 4,
  "nbformat_minor": 0,
  "metadata": {
    "colab": {
      "name": "Objects_And_Class.ipynb",
      "provenance": [],
      "authorship_tag": "ABX9TyO5OnlabepbuiidvbPmmiSb",
      "include_colab_link": true
    },
    "kernelspec": {
      "name": "python3",
      "display_name": "Python 3"
    },
    "language_info": {
      "name": "python"
    }
  },
  "cells": [
    {
      "cell_type": "markdown",
      "metadata": {
        "id": "view-in-github",
        "colab_type": "text"
      },
      "source": [
        "<a href=\"https://colab.research.google.com/github/Abir-Reza/Python_for_DataScience_AI_Development/blob/master/Objects_And_Class.ipynb\" target=\"_parent\"><img src=\"https://colab.research.google.com/assets/colab-badge.svg\" alt=\"Open In Colab\"/></a>"
      ]
    },
    {
      "cell_type": "markdown",
      "metadata": {
        "id": "tGvO1gEIWH9F"
      },
      "source": [
        "#Classes and Objects in Python"
      ]
    },
    {
      "cell_type": "code",
      "metadata": {
        "id": "HESGsYmYXctp"
      },
      "source": [
        "# Import the library\n",
        "\n",
        "import matplotlib.pyplot as plt\n",
        "%matplotlib inline  "
      ],
      "execution_count": 6,
      "outputs": []
    },
    {
      "cell_type": "code",
      "metadata": {
        "id": "Yro5XGXKVnw4"
      },
      "source": [
        "#Create class\n",
        "\n",
        "#Constructor\n",
        "class Circle(object):\n",
        "  def __init__(self,radius,color='blue'):\n",
        "    self.radius= radius\n",
        "    self.color= color\n",
        "\n",
        "  #Method\n",
        "  def drawCircle(self):\n",
        "    plt.gca().add_patch(plt.Circle((0,0),radius=self.radius, color= self.color))\n",
        "    plt.axis('scaled')\n",
        "    plt.show()\n"
      ],
      "execution_count": 16,
      "outputs": []
    },
    {
      "cell_type": "code",
      "metadata": {
        "colab": {
          "base_uri": "https://localhost:8080/",
          "height": 761
        },
        "id": "krJbxwniYXxk",
        "outputId": "075a5b11-6738-48c9-a2a2-6d54136dd25d"
      },
      "source": [
        "# Create object\n",
        "\n",
        "GreenCircle = Circle(10,'green')\n",
        "GreenCircle.drawCircle()\n",
        "\n",
        "RedCircle = Circle(5,'red')\n",
        "RedCircle.drawCircle()\n",
        "\n",
        "\n",
        "\n",
        "BlueCircle = Circle(25)\n",
        "BlueCircle.drawCircle()\n"
      ],
      "execution_count": 22,
      "outputs": [
        {
          "output_type": "display_data",
          "data": {
            "image/png": "[encoded data removed]",
            "text/plain": [
              "<Figure size 432x288 with 1 Axes>"
            ]
          },
          "metadata": {
            "tags": [],
            "needs_background": "light"
          }
        },
        {
          "output_type": "display_data",
          "data": {
            "image/png": "[encoded data removed]",
            "text/plain": [
              "<Figure size 432x288 with 1 Axes>"
            ]
          },
          "metadata": {
            "tags": [],
            "needs_background": "light"
          }
        },
        {
          "output_type": "display_data",
          "data": {
            "image/png": "[encoded data removed]",
            "text/plain": [
              "<Figure size 432x288 with 1 Axes>"
            ]
          },
          "metadata": {
            "tags": [],
            "needs_background": "light"
          }
        }
      ]
    },
    {
      "cell_type": "markdown",
      "metadata": {
        "id": "FlHE55iicjRy"
      },
      "source": [
        "#Exercise\n",
        "\n",
        "###Text Analysis \n",
        "You have been recruited by your friend, a linguistics enthusiast, to create a utility tool that can perform analysis on a given piece of text. Complete the class '**analysedText**' with the following methods -\n",
        "\n",
        "**Constructor** - Takes argument '**text'**,makes it **lower case** and **removes all punctuation**. Assume only the following punctuation is used - **period (.)**, exclamation mark **(!)**, comma **(,)** and question mark (**?**). Store the argument in **\"fmtText\"**\n",
        "\n",
        "  **freqAll** - returns a **dictionar**y of all unique words in the text along with the number of their occurences.\n",
        "\n",
        "**freqOf** - returns the frequency of the word passed in argument.\n",
        "The skeleton code has been given to you. Docstrings can be ignored for the purpose of the exercise.\n",
        "\n",
        "Hint: Some useful functions are **replace(), lower(), split(), count()**\n",
        "\n",
        "\n",
        "\n",
        "\n",
        "\n"
      ]
    },
    {
      "cell_type": "code",
      "metadata": {
        "id": "2dqbp57keogh"
      },
      "source": [
        "class analysedText(object):\n",
        "    \n",
        "    def __init__ (self, text):\n",
        "        pass\n",
        "    \n",
        "    def freqAll(self):        \n",
        "        pass\n",
        "    \n",
        "    def freqOf(self,word):\n",
        "        pass"
      ],
      "execution_count": 23,
      "outputs": []
    },
    {
      "cell_type": "markdown",
      "metadata": {
        "id": "eovoU9DuhY4n"
      },
      "source": [
        "Execute the block below to check your progress."
      ]
    },
    {
      "cell_type": "code",
      "metadata": {
        "id": "AY3VuD_wewNk"
      },
      "source": [
        "import sys\n",
        "\n",
        "sampleMap = {'eirmod': 1,'sed': 1, 'amet': 2, 'diam': 5, 'consetetur': 1, 'labore': 1, 'tempor': 1, 'dolor': 1, 'magna': 2, 'et': 3, 'nonumy': 1, 'ipsum': 1, 'lorem': 2}\n",
        "\n",
        "def testMsg(passed):\n",
        "    if passed:\n",
        "       return 'Test Passed'\n",
        "    else :\n",
        "       return 'Test Failed'\n",
        "\n",
        "print(\"Constructor: \")\n",
        "try:\n",
        "    samplePassage = analysedText(\"Lorem ipsum dolor! diam amet, consetetur Lorem magna. sed diam nonumy eirmod tempor. diam et labore? et diam magna. et diam amet.\")\n",
        "    print(testMsg(samplePassage.fmtText == \"lorem ipsum dolor diam amet consetetur lorem magna sed diam nonumy eirmod tempor diam et labore et diam magna et diam amet\"))\n",
        "except:\n",
        "    print(\"Error detected. Recheck your function \" )\n",
        "print(\"freqAll: \")\n",
        "try:\n",
        "    wordMap = samplePassage.freqAll()\n",
        "    print(testMsg(wordMap==sampleMap))\n",
        "except:\n",
        "    print(\"Error detected. Recheck your function \" )\n",
        "print(\"freqOf: \")\n",
        "try:\n",
        "    passed = True\n",
        "    for word in sampleMap:\n",
        "        if samplePassage.freqOf(word) != sampleMap[word]:\n",
        "            passed = False\n",
        "            break\n",
        "    print(testMsg(passed))\n",
        "    \n",
        "except:\n",
        "    print(\"Error detected. Recheck your function  \" )"
      ],
      "execution_count": null,
      "outputs": []
    },
    {
      "cell_type": "code",
      "metadata": {
        "id": "gkNrOAfrm3Mh"
      },
      "source": [
        "class analysedText(object):\n",
        "  def __init__(self,text):\n",
        "    #replace punctuation with white space\n",
        "    textformat = text.replace('.',' ').replace(',',' ').replace('!',' ').replace('?',' ')\n",
        "    \n",
        "    self.fmtText=textformat.lower()\n",
        "\n",
        "  def freqAll(self): \n",
        "        \n"
      ],
      "execution_count": null,
      "outputs": []
    }
  ]
}