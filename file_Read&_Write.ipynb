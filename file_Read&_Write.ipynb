{
  "nbformat": 4,
  "nbformat_minor": 0,
  "metadata": {
    "colab": {
      "name": "file_Read&_Write.ipynb",
      "provenance": [],
      "collapsed_sections": [],
      "authorship_tag": "ABX9TyO1+9qE/HE1NUyx5voFdMU6",
      "include_colab_link": true
    },
    "kernelspec": {
      "name": "python3",
      "display_name": "Python 3"
    },
    "language_info": {
      "name": "python"
    }
  },
  "cells": [
    {
      "cell_type": "markdown",
      "metadata": {
        "id": "view-in-github",
        "colab_type": "text"
      },
      "source": [
        "<a href=\"https://colab.research.google.com/github/Abir-Reza/Python_for_DataScience_AI_Development/blob/master/file_Read%26_Write.ipynb\" target=\"_parent\"><img src=\"https://colab.research.google.com/assets/colab-badge.svg\" alt=\"Open In Colab\"/></a>"
      ]
    },
    {
      "cell_type": "markdown",
      "metadata": {
        "id": "6Wzw_tNbWhnL"
      },
      "source": [
        "#Download File"
      ]
    },
    {
      "cell_type": "code",
      "metadata": {
        "id": "MLxRxTJURWzd",
        "colab": {
          "base_uri": "https://localhost:8080/"
        },
        "outputId": "0b26dbf2-42f9-49b5-b7cc-42e9c9f4cad6"
      },
      "source": [
        "import urllib.request\n",
        "url = 'https://cf-courses-data.s3.us.cloud-object-storage.appdomain.cloud/IBMDeveloperSkillsNetwork-PY0101EN-SkillsNetwork/labs/Module%204/data/example1.txt'\n",
        "filename = 'Example1.txt'\n",
        "urllib.request.urlretrieve(url, filename)\n"
      ],
      "execution_count": null,
      "outputs": [
        {
          "output_type": "execute_result",
          "data": {
            "text/plain": [
              "('Example1.txt', <http.client.HTTPMessage at 0x7f6265976690>)"
            ]
          },
          "metadata": {
            "tags": []
          },
          "execution_count": 1
        }
      ]
    },
    {
      "cell_type": "code",
      "metadata": {
        "colab": {
          "base_uri": "https://localhost:8080/"
        },
        "id": "uBwr388lUTVj",
        "outputId": "9444f823-4ffa-4f69-a776-8df426f01d12"
      },
      "source": [
        "!wget -O /resources/data/Example1.txt https://cf-courses-data.s3.us.cloud-object-storage.appdomain.cloud/IBMDeveloperSkillsNetwork-PY0101EN-SkillsNetwork/labs/Module%204/data/example1.txt"
      ],
      "execution_count": null,
      "outputs": [
        {
          "output_type": "stream",
          "text": [
            "/resources/data/Example1.txt: No such file or directory\n"
          ],
          "name": "stdout"
        }
      ]
    },
    {
      "cell_type": "markdown",
      "metadata": {
        "id": "q4wicPqHWnVV"
      },
      "source": [
        "##Read File"
      ]
    },
    {
      "cell_type": "code",
      "metadata": {
        "id": "NyxvjFDQUcds"
      },
      "source": [
        "# Read the Example1.txt\n",
        "\n",
        "example1 = \"Example1.txt\"\n",
        "file1 = open(example1, \"r\")"
      ],
      "execution_count": null,
      "outputs": []
    },
    {
      "cell_type": "markdown",
      "metadata": {
        "id": "e_o5HQ3AXKrG"
      },
      "source": [
        "##To find the name of the file use **.name**"
      ]
    },
    {
      "cell_type": "code",
      "metadata": {
        "colab": {
          "base_uri": "https://localhost:8080/",
          "height": 35
        },
        "id": "G3O7eOMQWMDS",
        "outputId": "ba4311cb-1169-4c99-ccc7-598972d51dea"
      },
      "source": [
        "# Print the path of file\n",
        "\n",
        "file1.name"
      ],
      "execution_count": null,
      "outputs": [
        {
          "output_type": "execute_result",
          "data": {
            "application/vnd.google.colaboratory.intrinsic+json": {
              "type": "string"
            },
            "text/plain": [
              "'Example1.txt'"
            ]
          },
          "metadata": {
            "tags": []
          },
          "execution_count": 4
        }
      ]
    },
    {
      "cell_type": "markdown",
      "metadata": {
        "id": "AvS99VyAXXSj"
      },
      "source": [
        "##**.mode**"
      ]
    },
    {
      "cell_type": "code",
      "metadata": {
        "colab": {
          "base_uri": "https://localhost:8080/",
          "height": 35
        },
        "id": "7-EW8htgWOH5",
        "outputId": "578b1fd4-6a87-4a83-ff63-083028708b5a"
      },
      "source": [
        "# Print the mode of file, either 'r' or 'w'\n",
        "\n",
        "file1.mode"
      ],
      "execution_count": null,
      "outputs": [
        {
          "output_type": "execute_result",
          "data": {
            "application/vnd.google.colaboratory.intrinsic+json": {
              "type": "string"
            },
            "text/plain": [
              "'r'"
            ]
          },
          "metadata": {
            "tags": []
          },
          "execution_count": 5
        }
      ]
    },
    {
      "cell_type": "markdown",
      "metadata": {
        "id": "q7KeGKPQXipX"
      },
      "source": [
        "##The method **read()**  stores the values of the file in the variable \"**FileContent**\" as **a string**."
      ]
    },
    {
      "cell_type": "code",
      "metadata": {
        "colab": {
          "base_uri": "https://localhost:8080/",
          "height": 35
        },
        "id": "yUe-yEQ_WQiu",
        "outputId": "9ba470c4-e3b3-4168-c027-2181f8b9fe62"
      },
      "source": [
        "# Read the file\n",
        "\n",
        "FileContent = file1.read()\n",
        "FileContent"
      ],
      "execution_count": null,
      "outputs": [
        {
          "output_type": "execute_result",
          "data": {
            "application/vnd.google.colaboratory.intrinsic+json": {
              "type": "string"
            },
            "text/plain": [
              "'This is line 1 \\nThis is line 2\\nThis is line 3'"
            ]
          },
          "metadata": {
            "tags": []
          },
          "execution_count": 6
        }
      ]
    },
    {
      "cell_type": "code",
      "metadata": {
        "colab": {
          "base_uri": "https://localhost:8080/"
        },
        "id": "BBMB_FZdWT9L",
        "outputId": "5d6c41df-b040-4620-8cc0-a277da282f00"
      },
      "source": [
        "# Print the file with '\\n' as a new line\n",
        "\n",
        "print(FileContent)"
      ],
      "execution_count": null,
      "outputs": [
        {
          "output_type": "stream",
          "text": [
            "This is line 1 \n",
            "This is line 2\n",
            "This is line 3\n"
          ],
          "name": "stdout"
        }
      ]
    },
    {
      "cell_type": "code",
      "metadata": {
        "colab": {
          "base_uri": "https://localhost:8080/"
        },
        "id": "Sj-N3gP_WXHV",
        "outputId": "bbb64e93-3cf0-4183-fc55-15a246e81e6b"
      },
      "source": [
        "# Type of file content\n",
        "\n",
        "type(FileContent)"
      ],
      "execution_count": null,
      "outputs": [
        {
          "output_type": "execute_result",
          "data": {
            "text/plain": [
              "str"
            ]
          },
          "metadata": {
            "tags": []
          },
          "execution_count": 8
        }
      ]
    },
    {
      "cell_type": "markdown",
      "metadata": {
        "id": "sVKThBBAYokZ"
      },
      "source": [
        "##Close the file after finish"
      ]
    },
    {
      "cell_type": "code",
      "metadata": {
        "id": "VJS_RriXWaD3"
      },
      "source": [
        "# Close file after finish\n",
        "\n",
        "file1.close()"
      ],
      "execution_count": null,
      "outputs": []
    },
    {
      "cell_type": "markdown",
      "metadata": {
        "id": "soOnzyy-Ywb9"
      },
      "source": [
        "\n",
        "##Better Way to Open a File using **with**. It **automatically Closes** the file."
      ]
    },
    {
      "cell_type": "code",
      "metadata": {
        "colab": {
          "base_uri": "https://localhost:8080/"
        },
        "id": "LhAU_udYY7EN",
        "outputId": "aa0ccf10-c044-4b7c-8dc2-02649af0c178"
      },
      "source": [
        "with open(example1,'r') as file1:\n",
        "  FileContent= file1.read()\n",
        "  print(FileContent)\n"
      ],
      "execution_count": null,
      "outputs": [
        {
          "output_type": "stream",
          "text": [
            "This is line 1 \n",
            "This is line 2\n",
            "This is line 3\n"
          ],
          "name": "stdout"
        }
      ]
    },
    {
      "cell_type": "markdown",
      "metadata": {
        "id": "-IkeVpQGa01f"
      },
      "source": [
        "###Verify if the file is **closed** or not"
      ]
    },
    {
      "cell_type": "code",
      "metadata": {
        "colab": {
          "base_uri": "https://localhost:8080/"
        },
        "id": "uceW5XQHZaBa",
        "outputId": "eafc2f43-b657-4ce5-99c3-5e17b0eb7dcd"
      },
      "source": [
        "file1.closed"
      ],
      "execution_count": null,
      "outputs": [
        {
          "output_type": "execute_result",
          "data": {
            "text/plain": [
              "True"
            ]
          },
          "metadata": {
            "tags": []
          },
          "execution_count": 13
        }
      ]
    },
    {
      "cell_type": "markdown",
      "metadata": {
        "id": "BPhoju23b4KW"
      },
      "source": [
        "##Read first **fixed number of characters**"
      ]
    },
    {
      "cell_type": "code",
      "metadata": {
        "colab": {
          "base_uri": "https://localhost:8080/"
        },
        "id": "Yz5AQiqub_Qc",
        "outputId": "665e96f4-358d-443b-b50b-4e61d4775edb"
      },
      "source": [
        "with open(example1,'r') as file1:\n",
        "  FileContent1 = file1.read(3)\n",
        "  print(FileContent1)\n",
        "  FileContent2 = file1.read(6)\n",
        "  print(FileContent2)"
      ],
      "execution_count": null,
      "outputs": [
        {
          "output_type": "stream",
          "text": [
            "Thi\n",
            "s is l\n"
          ],
          "name": "stdout"
        }
      ]
    },
    {
      "cell_type": "markdown",
      "metadata": {
        "id": "GlWfp_u4dI9J"
      },
      "source": [
        "##Read **one line** in file "
      ]
    },
    {
      "cell_type": "code",
      "metadata": {
        "colab": {
          "base_uri": "https://localhost:8080/"
        },
        "id": "q2wPEXYddNrU",
        "outputId": "2e6802a8-79f2-45ae-cc4a-a55371f812eb"
      },
      "source": [
        "with open(example1,'r') as file1:\n",
        "  File = file1.readline()\n",
        "  print(\"The first line is : \",File) "
      ],
      "execution_count": null,
      "outputs": [
        {
          "output_type": "stream",
          "text": [
            "The first line is :  This is line 1 \n",
            "\n"
          ],
          "name": "stdout"
        }
      ]
    },
    {
      "cell_type": "markdown",
      "metadata": {
        "id": "3O8C0U61d3Rq"
      },
      "source": [
        "#**Very important**\n",
        "##**Iteration through lines**\n",
        "\n"
      ]
    },
    {
      "cell_type": "code",
      "metadata": {
        "colab": {
          "base_uri": "https://localhost:8080/"
        },
        "id": "b3ORU08meFVZ",
        "outputId": "323df396-6e49-49c0-83e2-bad4b3026d1f"
      },
      "source": [
        "with open(example1,'r') as file1:\n",
        "  i=0\n",
        "  for line in file1:\n",
        "    print(\"Iteration \",str(i), \" : \", line)\n",
        "    i = i+1"
      ],
      "execution_count": null,
      "outputs": [
        {
          "output_type": "stream",
          "text": [
            "Iteration  0  :  This is line 1 \n",
            "\n",
            "Iteration  1  :  This is line 2\n",
            "\n",
            "Iteration  2  :  This is line 3\n"
          ],
          "name": "stdout"
        }
      ]
    },
    {
      "cell_type": "markdown",
      "metadata": {
        "id": "MF_uI6vufK1O"
      },
      "source": [
        "##Read all Line and save into **a list**"
      ]
    },
    {
      "cell_type": "code",
      "metadata": {
        "id": "XbtKQJ2FfXll"
      },
      "source": [
        "with open(example1, \"r\") as file1:\n",
        "    FileasList = file1.readlines()"
      ],
      "execution_count": null,
      "outputs": []
    },
    {
      "cell_type": "code",
      "metadata": {
        "colab": {
          "base_uri": "https://localhost:8080/",
          "height": 35
        },
        "id": "F43olBKcfiau",
        "outputId": "f8f79168-6a6a-45cf-a773-288562240146"
      },
      "source": [
        "#Print the first line\n",
        "\n",
        "FileasList[0]"
      ],
      "execution_count": null,
      "outputs": [
        {
          "output_type": "execute_result",
          "data": {
            "application/vnd.google.colaboratory.intrinsic+json": {
              "type": "string"
            },
            "text/plain": [
              "'This is line 1 \\n'"
            ]
          },
          "metadata": {
            "tags": []
          },
          "execution_count": 26
        }
      ]
    },
    {
      "cell_type": "code",
      "metadata": {
        "colab": {
          "base_uri": "https://localhost:8080/"
        },
        "id": "Ov9sLixCfwHS",
        "outputId": "76129301-9947-4182-9108-6fca97366cba"
      },
      "source": [
        "#Print without '\\n' newline\n",
        "print(FileasList[1])"
      ],
      "execution_count": null,
      "outputs": [
        {
          "output_type": "stream",
          "text": [
            "This is line 2\n",
            "\n"
          ],
          "name": "stdout"
        }
      ]
    },
    {
      "cell_type": "markdown",
      "metadata": {
        "id": "y6zuJEC_hpAa"
      },
      "source": [
        "#***Write file*** "
      ]
    },
    {
      "cell_type": "code",
      "metadata": {
        "id": "W-4kfsKThuZH"
      },
      "source": [
        "exmp2 = 'Example2.txt'\n",
        "with open(exmp2,'w') as writefile:\n",
        "  writefile.write(\"This is writing A file\")"
      ],
      "execution_count": 31,
      "outputs": []
    },
    {
      "cell_type": "code",
      "metadata": {
        "colab": {
          "base_uri": "https://localhost:8080/"
        },
        "id": "NhIzTrDokPsp",
        "outputId": "4c219548-6d26-4cdb-e997-c607a3c45726"
      },
      "source": [
        "with open(exmp2,'r') as testwritefile:\n",
        "  print(testwritefile.read())"
      ],
      "execution_count": 33,
      "outputs": [
        {
          "output_type": "stream",
          "text": [
            "This is writing A file\n"
          ],
          "name": "stdout"
        }
      ]
    },
    {
      "cell_type": "markdown",
      "metadata": {
        "id": "ACKG1oa1knEr"
      },
      "source": [
        "##Write multiple lines\n"
      ]
    },
    {
      "cell_type": "code",
      "metadata": {
        "id": "fZRJpBsIlcG0"
      },
      "source": [
        "with open(exmp2,'w') as writefile:\n",
        "  writefile.write(\"This is write file line A\\n\")\n",
        "  writefile.write(\"This is write file line B\\n\")"
      ],
      "execution_count": 34,
      "outputs": []
    },
    {
      "cell_type": "code",
      "metadata": {
        "colab": {
          "base_uri": "https://localhost:8080/"
        },
        "id": "vRM1zDfBkk65",
        "outputId": "9d58d227-aa37-4fe9-bda2-206e25f38dc3"
      },
      "source": [
        "# Check whether write to file\n",
        "\n",
        "with open(exmp2, 'r') as testwritefile:\n",
        "    print(testwritefile.read())"
      ],
      "execution_count": 35,
      "outputs": [
        {
          "output_type": "stream",
          "text": [
            "This is write file line A\n",
            "This is write file line B\n",
            "\n"
          ],
          "name": "stdout"
        }
      ]
    },
    {
      "cell_type": "markdown",
      "metadata": {
        "id": "0tCFT5Dpl7j-"
      },
      "source": [
        "##Write **a List** to a **.txt** file"
      ]
    },
    {
      "cell_type": "code",
      "metadata": {
        "colab": {
          "base_uri": "https://localhost:8080/"
        },
        "id": "3LOLpTrXmC6B",
        "outputId": "4c68ebf4-bd1a-4225-bae1-ee1659bc7c37"
      },
      "source": [
        "# Sample list of text\n",
        "\n",
        "Lines = [\"This is line A\\n\", \"This is line B\\n\", \"This is line C\\n\"]\n",
        "Lines"
      ],
      "execution_count": 36,
      "outputs": [
        {
          "output_type": "execute_result",
          "data": {
            "text/plain": [
              "['This is line A\\n', 'This is line B\\n', 'This is line C\\n']"
            ]
          },
          "metadata": {
            "tags": []
          },
          "execution_count": 36
        }
      ]
    },
    {
      "cell_type": "code",
      "metadata": {
        "colab": {
          "base_uri": "https://localhost:8080/"
        },
        "id": "PMQEM--ImzKN",
        "outputId": "d6422fac-edba-4506-c566-25996742928a"
      },
      "source": [
        "with open('Example2.txt','w') as writefile:\n",
        "  for line in Lines:\n",
        "    print(line)\n",
        "    writefile.write(line) "
      ],
      "execution_count": 37,
      "outputs": [
        {
          "output_type": "stream",
          "text": [
            "This is line A\n",
            "\n",
            "This is line B\n",
            "\n",
            "This is line C\n",
            "\n"
          ],
          "name": "stdout"
        }
      ]
    },
    {
      "cell_type": "markdown",
      "metadata": {
        "id": "SRa1-w4enSQU"
      },
      "source": [
        "##Verify if write worked perfectly"
      ]
    },
    {
      "cell_type": "code",
      "metadata": {
        "colab": {
          "base_uri": "https://localhost:8080/"
        },
        "id": "MzUe6H2NnOfM",
        "outputId": "3670ec8e-ffa2-43e2-eaff-72f06242a090"
      },
      "source": [
        "# Verify if writing to file is successfully executed\n",
        "\n",
        "with open('Example2.txt', 'r') as testwritefile:\n",
        "    print(testwritefile.read())"
      ],
      "execution_count": 38,
      "outputs": [
        {
          "output_type": "stream",
          "text": [
            "This is line A\n",
            "This is line B\n",
            "This is line C\n",
            "\n"
          ],
          "name": "stdout"
        }
      ]
    },
    {
      "cell_type": "markdown",
      "metadata": {
        "id": "LkAQZ-eOnm7O"
      },
      "source": [
        "##Note that setting the mode to **w** **overwrites all the existing data** in the file."
      ]
    },
    {
      "cell_type": "code",
      "metadata": {
        "colab": {
          "base_uri": "https://localhost:8080/"
        },
        "id": "M3Dg_n6hnlv-",
        "outputId": "8fadda11-56b2-4e32-854a-68174b48e3a5"
      },
      "source": [
        "with open('Example2.txt', 'w') as writefile:\n",
        "    writefile.write(\"Overwrite\\n\")\n",
        "with open('Example2.txt', 'r') as testwritefile:\n",
        "    print(testwritefile.read())"
      ],
      "execution_count": 39,
      "outputs": [
        {
          "output_type": "stream",
          "text": [
            "Overwrite\n",
            "\n"
          ],
          "name": "stdout"
        }
      ]
    },
    {
      "cell_type": "markdown",
      "metadata": {
        "id": "e-YXLbhIn73X"
      },
      "source": [
        "#**Append file**\n",
        "\n",
        "We can write to files **without losing any of the existing data** as follows by setting the mode argument to append **a.**"
      ]
    },
    {
      "cell_type": "code",
      "metadata": {
        "id": "D0f2fmqjoA9H"
      },
      "source": [
        "# Write a new line to text file\n",
        "\n",
        "with open('Example2.txt', 'a') as testwritefile:\n",
        "    testwritefile.write(\"This is line C\\n\")\n",
        "    testwritefile.write(\"This is line D\\n\")\n",
        "    testwritefile.write(\"This is line E\\n\")"
      ],
      "execution_count": 41,
      "outputs": []
    },
    {
      "cell_type": "markdown",
      "metadata": {
        "id": "aSj3oF5Mq_-Z"
      },
      "source": [
        "###Verify"
      ]
    },
    {
      "cell_type": "code",
      "metadata": {
        "colab": {
          "base_uri": "https://localhost:8080/"
        },
        "id": "Ze_19MK9rEJJ",
        "outputId": "10893801-53c7-4e55-dcd4-358ef16f915f"
      },
      "source": [
        "with open('Example2.txt', 'r') as testwritefile:\n",
        "    print(testwritefile.read())"
      ],
      "execution_count": 42,
      "outputs": [
        {
          "output_type": "stream",
          "text": [
            "Overwrite\n",
            "This is line C\n",
            "This is line D\n",
            "This is line E\n",
            "\n"
          ],
          "name": "stdout"
        }
      ]
    },
    {
      "cell_type": "markdown",
      "metadata": {
        "id": "NLeqmecgrPvc"
      },
      "source": [
        "##Additional modes\n",
        "\n",
        "It's fairly ineffecient to open the file in **a** or **w** and then reopening it in **r** to read any lines. Luckily we can access the file in the following modes:\n",
        "\n",
        "-   **r+** : Reading and writing. **Cannot truncate** the file.\n",
        "-   **w+** : Writing and reading. **Truncates the file**.\n",
        "-   **a+** : Appending and Reading. **Creates a new file, if none exists**."
      ]
    },
    {
      "cell_type": "code",
      "metadata": {
        "colab": {
          "base_uri": "https://localhost:8080/"
        },
        "id": "Ge0IU-GyrSts",
        "outputId": "76f0e1ee-c656-4b6e-b321-91761eb63445"
      },
      "source": [
        "with open('example2.txt','a+') as testwritefile:\n",
        "  testwritefile.write(\"This is testing write using a+ \\n\")\n",
        "  print(testwritefile.read())\n"
      ],
      "execution_count": 43,
      "outputs": [
        {
          "output_type": "stream",
          "text": [
            "\n"
          ],
          "name": "stdout"
        }
      ]
    },
    {
      "cell_type": "markdown",
      "metadata": {
        "id": "Fte51kOztF4B"
      },
      "source": [
        "Opening the file in **w** is akin to opening the .txt file, moving your cursor to the beginning of the text file, writing new text and deleting everything that follows.\n",
        "Whereas opening the file in **a** is similiar to opening the .txt file, moving your cursor to the very end and then adding the new pieces of text. <br>\n",
        "It is often very useful to know where the 'cursor' is in a file and be able to control it. The following methods allow us to do precisely this -\n",
        "\n",
        "-   <code>**.tell()**</code> - returns the current position in bytes\n",
        "-   <code>**.seek(offset,from)**</code> - changes the position by 'offset' bytes with respect to 'from'. From can take the value of 0,1,2 corresponding to beginning, relative to current position and end"
      ]
    },
    {
      "cell_type": "code",
      "metadata": {
        "colab": {
          "base_uri": "https://localhost:8080/"
        },
        "id": "Ql3FKqObtRno",
        "outputId": "86f8fb77-4356-4448-846c-66764b953e0b"
      },
      "source": [
        "with open('Example2.txt', 'a+') as testwritefile:\n",
        "    print(\"Initial Location: {}\".format(testwritefile.tell()))\n",
        "    \n",
        "    data = testwritefile.read()\n",
        "    if (not data):  #empty strings return false in python\n",
        "            print('Read nothing') \n",
        "    else: \n",
        "            print(testwritefile.read())\n",
        "            \n",
        "    testwritefile.seek(0,0) # move 0 bytes from beginning.\n",
        "    \n",
        "    print(\"\\nNew Location : {}\".format(testwritefile.tell()))\n",
        "    data = testwritefile.read()\n",
        "    if (not data): \n",
        "            print('Read nothing') \n",
        "    else: \n",
        "            print(data)\n",
        "    \n",
        "    print(\"Location after read: {}\".format(testwritefile.tell()) )"
      ],
      "execution_count": 44,
      "outputs": [
        {
          "output_type": "stream",
          "text": [
            "Initial Location: 55\n",
            "Read nothing\n",
            "\n",
            "New Location : 0\n",
            "Overwrite\n",
            "This is line C\n",
            "This is line D\n",
            "This is line E\n",
            "\n",
            "Location after read: 55\n"
          ],
          "name": "stdout"
        }
      ]
    },
    {
      "cell_type": "markdown",
      "metadata": {
        "id": "dl1zLJcgvcw8"
      },
      "source": [
        "Finally, a note on the difference between **w+** and **r+**. Both of these modes allow access to read and write methods, However opening a file in **w+** overwrites it and deletes all existing data. <br>\n",
        "To work with a file on existing data, use **r+** and **a+**. While using **r+**, it can be useful to add a <code>.truncate()</code> method at the end of your data. This will reduce the file to your data and delete everything that follows. <br>\n",
        "In the following code block, Run the code as it is first and then run it with the <code>.truncate()</code>."
      ]
    },
    {
      "cell_type": "code",
      "metadata": {
        "colab": {
          "base_uri": "https://localhost:8080/"
        },
        "id": "3aeDdvWsveKJ",
        "outputId": "37565a7e-7e1e-49b0-bcca-47ef7a1b3c7d"
      },
      "source": [
        "with open('Example2.txt', 'r+') as testwritefile:\n",
        "    data = testwritefile.readlines()\n",
        "    testwritefile.seek(0,0) #write at beginning of file\n",
        "   \n",
        "    testwritefile.write(\"Line 1\" + \"\\n\")\n",
        "    testwritefile.write(\"Line 2\" + \"\\n\")\n",
        "    testwritefile.write(\"Line 3\" + \"\\n\")\n",
        "    testwritefile.write(\"finished\\n\")\n",
        "    #Uncomment the line below\n",
        "    testwritefile.truncate()\n",
        "    testwritefile.seek(0,0)\n",
        "    print(testwritefile.read())"
      ],
      "execution_count": 46,
      "outputs": [
        {
          "output_type": "stream",
          "text": [
            "Line 1\n",
            "Line 2\n",
            "Line 3\n",
            "finished\n",
            "\n"
          ],
          "name": "stdout"
        }
      ]
    },
    {
      "cell_type": "markdown",
      "metadata": {
        "id": "LHMhs3gUv1s9"
      },
      "source": [
        "##Copy file"
      ]
    },
    {
      "cell_type": "code",
      "metadata": {
        "id": "PtifXygev4ci"
      },
      "source": [
        "#Let's copy the file Example2.txt to the file Example3.txt\n",
        "\n",
        "with open('Example2.txt','r') as readfile:\n",
        "  with open('Example3.txt','w') as writefile:\n",
        "    for line in readfile:\n",
        "      writefile.write(line)"
      ],
      "execution_count": 47,
      "outputs": []
    },
    {
      "cell_type": "code",
      "metadata": {
        "colab": {
          "base_uri": "https://localhost:8080/"
        },
        "id": "BsYoUMXnwVuM",
        "outputId": "0180132e-775a-43de-9d62-a67ba0b3fb63"
      },
      "source": [
        "#Verify the copy execited or not\n",
        "with open('Example3.txt','r') as testwritefile:\n",
        "  print(\"Test copy :\\n\",testwritefile.read())"
      ],
      "execution_count": 51,
      "outputs": [
        {
          "output_type": "stream",
          "text": [
            "Test copy :\n",
            " Line 1\n",
            "Line 2\n",
            "Line 3\n",
            "finished\n",
            "\n"
          ],
          "name": "stdout"
        }
      ]
    },
    {
      "cell_type": "code",
      "metadata": {
        "id": "B0jisTOswcXL"
      },
      "source": [
        ""
      ],
      "execution_count": null,
      "outputs": []
    }
  ]
}