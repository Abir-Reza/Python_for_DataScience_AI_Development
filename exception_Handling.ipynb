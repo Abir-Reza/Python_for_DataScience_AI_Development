{
  "nbformat": 4,
  "nbformat_minor": 0,
  "metadata": {
    "colab": {
      "name": "exception_Handling.ipynb",
      "provenance": [],
      "authorship_tag": "ABX9TyM1NpIF46TCOqRGDGx/UN6I",
      "include_colab_link": true
    },
    "kernelspec": {
      "name": "python3",
      "display_name": "Python 3"
    },
    "language_info": {
      "name": "python"
    }
  },
  "cells": [
    {
      "cell_type": "markdown",
      "metadata": {
        "id": "view-in-github",
        "colab_type": "text"
      },
      "source": [
        "<a href=\"https://colab.research.google.com/github/Abir-Reza/Python_for_DataScience_AI_Development/blob/master/exception_Handling.ipynb\" target=\"_parent\"><img src=\"https://colab.research.google.com/assets/colab-badge.svg\" alt=\"Open In Colab\"/></a>"
      ]
    },
    {
      "cell_type": "markdown",
      "metadata": {
        "id": "OFEWv-vVJSn1"
      },
      "source": [
        "#Exception Handling\n",
        "##What is an Exception?\n",
        "In this section you will learn about what an exception is and see examples of them.\n",
        "\n",
        "##Definition\n",
        "An exception is an error that occurs during the execution of code. This error causes the code to raise an exception and if not prepared to handle it will halt the execution of the code."
      ]
    },
    {
      "cell_type": "markdown",
      "metadata": {
        "id": "nmgDuNtaJ1rC"
      },
      "source": [
        "###Example of exception\n",
        "\n",
        "There are many more exceptions that are built into Python, here is a list of them https://docs.python.org/3/library/exceptions.html"
      ]
    },
    {
      "cell_type": "code",
      "metadata": {
        "id": "OkMCToGhv2Z8"
      },
      "source": [
        "1/0"
      ],
      "execution_count": null,
      "outputs": []
    },
    {
      "cell_type": "code",
      "metadata": {
        "id": "YgxgVwvEKE6a"
      },
      "source": [
        "y = a + 5"
      ],
      "execution_count": null,
      "outputs": []
    },
    {
      "cell_type": "code",
      "metadata": {
        "id": "wu-KzPfYKHsV"
      },
      "source": [
        "a = [1, 2, 3]\n",
        "a[10]"
      ],
      "execution_count": null,
      "outputs": []
    },
    {
      "cell_type": "markdown",
      "metadata": {
        "id": "UVBWjVD8KRl-"
      },
      "source": [
        "##Exception Handling\n",
        "###Try Except\n",
        "\n",
        "Let's try to **divide a number** given by the user, save the outcome in the variable **a**, and then we would like to print the result of the operation. When taking user **input** and dividing a number by it there are a couple of exceptions that can be raised. For example **if** we **divide by zero**, **try** running the following block of code, with b as a number an exception will only be Raised if b, is zero"
      ]
    },
    {
      "cell_type": "code",
      "metadata": {
        "colab": {
          "base_uri": "https://localhost:8080/"
        },
        "id": "_MiYJC6lKcnC",
        "outputId": "dbab94d6-aa37-43f2-d36e-0c874cee09b8"
      },
      "source": [
        "a =5\n",
        "\n",
        "try:\n",
        "  b= int(input('Enter a number to divide a '))\n",
        "  a =a/b\n",
        "  print('the output is : ',a )\n",
        "except:\n",
        "  print('There is an error')"
      ],
      "execution_count": null,
      "outputs": [
        {
          "output_type": "stream",
          "text": [
            "Enter a number to divide a 0\n",
            "There is an error\n"
          ],
          "name": "stdout"
        }
      ]
    },
    {
      "cell_type": "markdown",
      "metadata": {
        "id": "fyq5jhfHMiBk"
      },
      "source": [
        "###Try Except Specific"
      ]
    },
    {
      "cell_type": "code",
      "metadata": {
        "id": "4-fpt12KMl7Y",
        "colab": {
          "base_uri": "https://localhost:8080/"
        },
        "outputId": "d5265b2d-0638-49a0-d8c9-164080717723"
      },
      "source": [
        "a = 1\n",
        "\n",
        "try:\n",
        "    b = int(input(\"Enter a number to divide a \"))\n",
        "    a = a/b\n",
        "    print(\"Success a=\",a)\n",
        "except ZeroDivisionError:\n",
        "    print(\"The number cant divide 1 because it is 0\")\n",
        "except ValueError:\n",
        "    print(\"You did not provide a number\")\n",
        "except:\n",
        "    print(\"Something went wrong\")\n",
        "        "
      ],
      "execution_count": 14,
      "outputs": [
        {
          "output_type": "stream",
          "text": [
            "Something went wrong\n"
          ],
          "name": "stdout"
        }
      ]
    },
    {
      "cell_type": "markdown",
      "metadata": {
        "id": "sHOEbLq5PuL-"
      },
      "source": [
        "###Try Except Else and Finally\n",
        "**else** allows one to check if there was **no exception** when executing the try block. This is useful when we want to execute something **only if** there **were no errors**.\n",
        "\n",
        "do not run, just to illustrate\n",
        "\n",
        "**finally** allows us to **always execute something** **even if** there is **an exception or not**. This is usually used to signify the end of the try except."
      ]
    },
    {
      "cell_type": "code",
      "metadata": {
        "id": "ThuhVPNOQOR9"
      },
      "source": [
        "# potential code before try catch\n",
        "\n",
        "try:\n",
        "    # code to try to execute\n",
        "except ZeroDivisionError:\n",
        "    # code to execute if there is a ZeroDivisionError\n",
        "except NameError:\n",
        "    # code to execute if there is a NameError\n",
        "except:\n",
        "    # code to execute if ther is any exception\n",
        "else:\n",
        "    # code to execute if there is no exception\n",
        "finally:\n",
        "    # code to execute at the end of the try except no matter what    \n",
        "    \n",
        "# code that will execute if there is no exception or a one that we are handling"
      ],
      "execution_count": null,
      "outputs": []
    },
    {
      "cell_type": "markdown",
      "metadata": {
        "id": "lpmO_IlzQYHS"
      },
      "source": [
        "###Example"
      ]
    },
    {
      "cell_type": "code",
      "metadata": {
        "id": "SQxu3Q8VTCXX",
        "colab": {
          "base_uri": "https://localhost:8080/"
        },
        "outputId": "384f4b40-5457-46c9-939f-a685e408a24a"
      },
      "source": [
        "a = 1\n",
        "\n",
        "try:\n",
        "    b = int(input(\"Please enter a number to divide a\"))\n",
        "    a = a/b\n",
        "except ZeroDivisionError:\n",
        "    print(\"The number you provided cant divide 1 because it is 0\")\n",
        "except ValueError:\n",
        "    print(\"You did not provide a number\")\n",
        "except:\n",
        "    print(\"Something went wrong\")\n",
        "else:\n",
        "    print(\"success a=\",a)"
      ],
      "execution_count": 18,
      "outputs": [
        {
          "output_type": "stream",
          "text": [
            "Please enter a number to divide a8\n",
            "success a= 0.125\n"
          ],
          "name": "stdout"
        }
      ]
    },
    {
      "cell_type": "code",
      "metadata": {
        "id": "alCsRItCT3hg",
        "colab": {
          "base_uri": "https://localhost:8080/"
        },
        "outputId": "15923a5c-3aa0-4cf9-e577-26c20b4f91f3"
      },
      "source": [
        "a = 1\n",
        "\n",
        "try:\n",
        "    b = int(input(\"Please enter a number to divide a\"))\n",
        "    a = a/b\n",
        "except ZeroDivisionError:\n",
        "    print(\"The number you provided cant divide 1 because it is 0\")\n",
        "except ValueError:\n",
        "    print(\"You did not provide a number\")\n",
        "except:\n",
        "    print(\"Something went wrong\")\n",
        "else:\n",
        "    print(\"success a=\",a)\n",
        "finally:\n",
        "    print(\"Processing Complete\")"
      ],
      "execution_count": 16,
      "outputs": [
        {
          "output_type": "stream",
          "text": [
            "Please enter a number to divide al\n",
            "You did not provide a number\n",
            "Processing Complete\n"
          ],
          "name": "stdout"
        }
      ]
    }
  ]
}