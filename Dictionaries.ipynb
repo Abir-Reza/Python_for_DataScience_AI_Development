{
  "nbformat": 4,
  "nbformat_minor": 0,
  "metadata": {
    "colab": {
      "name": "Dictionaries.ipynb",
      "provenance": [],
      "authorship_tag": "ABX9TyMSa3itoi0odsDvhV7ZRw6K",
      "include_colab_link": true
    },
    "kernelspec": {
      "name": "python3",
      "display_name": "Python 3"
    },
    "language_info": {
      "name": "python"
    }
  },
  "cells": [
    {
      "cell_type": "markdown",
      "metadata": {
        "id": "view-in-github",
        "colab_type": "text"
      },
      "source": [
        "<a href=\"https://colab.research.google.com/github/Abir-Reza/Python_for_DataScience_AI_Development/blob/master/Dictionaries.ipynb\" target=\"_parent\"><img src=\"https://colab.research.google.com/assets/colab-badge.svg\" alt=\"Open In Colab\"/></a>"
      ]
    },
    {
      "cell_type": "markdown",
      "metadata": {
        "id": "Q54-R-pqEc-4"
      },
      "source": [
        "#What are Dictionaries?\n",
        "A dictionary consists of **keys and values**. It is helpful to compare a dictionary to a list. Instead of the numerical indexes such as a list, dictionaries have keys. These keys are the keys that are used to access values within a dictionary.\n",
        "\n",
        "<img src=\"https://cf-courses-data.s3.us.cloud-object-storage.appdomain.cloud/IBMDeveloperSkillsNetwork-PY0101EN-SkillsNetwork/labs/Module%202/images/DictsList.png\" width=\"650\" />\n",
        "\n",
        "\n",
        "**Note:** Keys should be **identical** to each other"
      ]
    },
    {
      "cell_type": "code",
      "metadata": {
        "colab": {
          "base_uri": "https://localhost:8080/"
        },
        "id": "QIZfmlWl7AXB",
        "outputId": "3adf74d9-4f8d-4093-b10f-2843394b7651"
      },
      "source": [
        "#Create the dictoinary\n",
        "\n",
        "Dict = {'key1': 1, 'key2':\"abir\", 3: (2,5)}\n",
        "\n",
        "print(Dict)\n",
        "\n",
        "#Access by key\n",
        "print(Dict['key2'])\n",
        "\n",
        "# Key can be string or any number \n",
        "print(Dict[3])\n",
        "\n"
      ],
      "execution_count": 16,
      "outputs": [
        {
          "output_type": "stream",
          "text": [
            "{'key1': 1, 'key2': 'abir', 3: (2, 5)}\n",
            "abir\n",
            "(2, 5)\n"
          ],
          "name": "stdout"
        }
      ]
    },
    {
      "cell_type": "markdown",
      "metadata": {
        "id": "zpxbzz4TGxWN"
      },
      "source": [
        "#**key()** and **values()** function for dictionary"
      ]
    },
    {
      "cell_type": "code",
      "metadata": {
        "colab": {
          "base_uri": "https://localhost:8080/"
        },
        "id": "SBNTA9TRG-6p",
        "outputId": "4f60c8ee-a459-4f63-c420-ea21ef54e09a"
      },
      "source": [
        "Dict = {'key1': 1, 'key2':\"abir\", 3: (2,5)}\n",
        "\n",
        "k = Dict.keys()\n",
        "print(k)\n",
        "\n",
        "val = Dict.values()\n",
        "\n",
        "print(val)"
      ],
      "execution_count": 17,
      "outputs": [
        {
          "output_type": "stream",
          "text": [
            "dict_keys(['key1', 'key2', 3])\n",
            "dict_values([1, 'abir', (2, 5)])\n"
          ],
          "name": "stdout"
        }
      ]
    }
  ]
}