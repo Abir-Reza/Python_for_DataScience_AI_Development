{
  "nbformat": 4,
  "nbformat_minor": 0,
  "metadata": {
    "colab": {
      "name": "List_and_Tupple.ipynb",
      "provenance": [],
      "collapsed_sections": [],
      "authorship_tag": "ABX9TyNA0qGc+tnZwmK0cIogMvii",
      "include_colab_link": true
    },
    "kernelspec": {
      "name": "python3",
      "display_name": "Python 3"
    },
    "language_info": {
      "name": "python"
    }
  },
  "cells": [
    {
      "cell_type": "markdown",
      "metadata": {
        "id": "view-in-github",
        "colab_type": "text"
      },
      "source": [
        "<a href=\"https://colab.research.google.com/github/Abir-Reza/Python_for_DataScience_AI_Development/blob/master/List_and_Tupple.ipynb\" target=\"_parent\"><img src=\"https://colab.research.google.com/assets/colab-badge.svg\" alt=\"Open In Colab\"/></a>"
      ]
    },
    {
      "cell_type": "markdown",
      "metadata": {
        "id": "GJQhxk8-XC9g"
      },
      "source": [
        "#Tuples\n",
        "\n",
        "In Python, there are different data types: **string, integer and float**. These data types can all be contained in a tuple as follows"
      ]
    },
    {
      "cell_type": "code",
      "metadata": {
        "colab": {
          "base_uri": "https://localhost:8080/"
        },
        "id": "AMtNiCWaWiWi",
        "outputId": "6b399f2e-9479-49be-f6ff-3bc9708a5b78"
      },
      "source": [
        "# create tupple\n",
        "tuple1 = ('abir',2,3.6)\n",
        "\n",
        "tuple1"
      ],
      "execution_count": 1,
      "outputs": [
        {
          "output_type": "execute_result",
          "data": {
            "text/plain": [
              "('abir', 2, 3.6)"
            ]
          },
          "metadata": {
            "tags": []
          },
          "execution_count": 1
        }
      ]
    },
    {
      "cell_type": "code",
      "metadata": {
        "colab": {
          "base_uri": "https://localhost:8080/"
        },
        "id": "mQ3aamW5ajef",
        "outputId": "1a8e3b52-2d73-4925-808b-ecae476ab1ab"
      },
      "source": [
        "# data type of tuple\n",
        "type(tuple1)\n"
      ],
      "execution_count": 2,
      "outputs": [
        {
          "output_type": "execute_result",
          "data": {
            "text/plain": [
              "tuple"
            ]
          },
          "metadata": {
            "tags": []
          },
          "execution_count": 2
        }
      ]
    },
    {
      "cell_type": "markdown",
      "metadata": {
        "id": "uO8xt-FsbAOU"
      },
      "source": [
        "#Indexing\n",
        "\n",
        "Both **positive and negative** indexing avaliable.\n"
      ]
    },
    {
      "cell_type": "code",
      "metadata": {
        "colab": {
          "base_uri": "https://localhost:8080/"
        },
        "id": "WCU_D8B3a9B5",
        "outputId": "326cbfe0-5ccb-423c-a338-d677ee3276b1"
      },
      "source": [
        "tuple2 = (1,3.7, 'Reza','Computer Science',25)\n",
        "print(tuple2[0])\n",
        "print(tuple2[3])\n",
        "\n",
        "# Negative indexing\n",
        "print(tuple2[-1])\n",
        "print(tuple2[-len(tuple2)])\n",
        "\n",
        "# tuple2[-5] is the first element, while tuple[-1] is the last element\n",
        "print(tuple2[-5])"
      ],
      "execution_count": 4,
      "outputs": [
        {
          "output_type": "stream",
          "text": [
            "1\n",
            "Computer Science\n",
            "25\n",
            "1\n",
            "1\n"
          ],
          "name": "stdout"
        }
      ]
    },
    {
      "cell_type": "markdown",
      "metadata": {
        "id": "CJwiuz4lc5yu"
      },
      "source": [
        "#Concatenate Tuples\n",
        "We can concatenate or combine tuples by using the **+** sign:"
      ]
    },
    {
      "cell_type": "code",
      "metadata": {
        "colab": {
          "base_uri": "https://localhost:8080/"
        },
        "id": "BmZUrvT4cwRP",
        "outputId": "eb21c3a6-2e5a-4548-d757-47ea691f0645"
      },
      "source": [
        "tuple1 = ('abir',2,3.6)\n",
        "tuple2 = (1,3.7, 'Reza','Computer Science',25)\n",
        "tuple3= tuple1 + tuple2\n",
        "\n",
        "\n",
        "print(tuple3)"
      ],
      "execution_count": 12,
      "outputs": [
        {
          "output_type": "stream",
          "text": [
            "('abir', 2, 3.6, 1, 3.7, 'Reza', 'Computer Science', 25)\n"
          ],
          "name": "stdout"
        }
      ]
    },
    {
      "cell_type": "markdown",
      "metadata": {
        "id": "yHSGbFP9e15Q"
      },
      "source": [
        "#Slicing"
      ]
    },
    {
      "cell_type": "code",
      "metadata": {
        "colab": {
          "base_uri": "https://localhost:8080/"
        },
        "id": "GzeMQGlwe6On",
        "outputId": "a7b60286-c028-452f-fdcb-ec42dda7364f"
      },
      "source": [
        "print(tuple3[0:6])\n",
        "\n",
        "print(tuple3[2:6])\n",
        "\n",
        "#get length\n",
        "len(tuple3)\n",
        "\n"
      ],
      "execution_count": 13,
      "outputs": [
        {
          "output_type": "stream",
          "text": [
            "('abir', 2, 3.6, 1, 3.7, 'Reza')\n",
            "(3.6, 1, 3.7, 'Reza')\n"
          ],
          "name": "stdout"
        },
        {
          "output_type": "execute_result",
          "data": {
            "text/plain": [
              "8"
            ]
          },
          "metadata": {
            "tags": []
          },
          "execution_count": 13
        }
      ]
    },
    {
      "cell_type": "markdown",
      "metadata": {
        "id": "x9yso94mfbTX"
      },
      "source": [
        "#Sorting\n",
        "\n",
        "**Note:** Tupples are **immutable**. \n"
      ]
    },
    {
      "cell_type": "code",
      "metadata": {
        "colab": {
          "base_uri": "https://localhost:8080/"
        },
        "id": "cU_MN56NfdXh",
        "outputId": "3184ba01-6819-41e3-e656-7349ea23c743"
      },
      "source": [
        "# sample tuple\n",
        "\n",
        "ranking = (2,5,8,3,1,4,7)\n",
        "\n",
        "# #sort\n",
        "ratingsorted= sorted(ranking)\n",
        "\n",
        "ratingsorted\n",
        "\n",
        "\n"
      ],
      "execution_count": 25,
      "outputs": [
        {
          "output_type": "execute_result",
          "data": {
            "text/plain": [
              "[1, 2, 3, 4, 5, 7, 8]"
            ]
          },
          "metadata": {
            "tags": []
          },
          "execution_count": 25
        }
      ]
    },
    {
      "cell_type": "markdown",
      "metadata": {
        "id": "2Df1XSmOgvHh"
      },
      "source": [
        "#Nested Tuple\n",
        "\n",
        "A tuple can **contain another tuple** as well as other more complex data types. This process is called '**nesting**'. Consider the following tuple with several elements:\n",
        "\n"
      ]
    },
    {
      "cell_type": "code",
      "metadata": {
        "colab": {
          "base_uri": "https://localhost:8080/"
        },
        "id": "8s95ZeNwqcMr",
        "outputId": "36dd311f-074b-467d-f197-b2d62dff5d94"
      },
      "source": [
        "nestedTup = (1,45,('Germany', 'CAU'), 28, (2,3,6))\n",
        "\n",
        "print(len(nestedTup))\n",
        "\n",
        "print(nestedTup[2])\n",
        "print(\"Element of 4 index  2nd position is :\",nestedTup[4][1])\n",
        "\n",
        "# Print the first element in the second nested tuples\n",
        "print(\"index[2][1][0] of nestedtuple is: \", nestedTup[2][1][0])"
      ],
      "execution_count": 35,
      "outputs": [
        {
          "output_type": "stream",
          "text": [
            "5\n",
            "('Germany', 'CAU')\n",
            "Element of 4 index  2nd position is : 3\n",
            "index[2][1][0] of nestedtuple is:  C\n"
          ],
          "name": "stdout"
        }
      ]
    },
    {
      "cell_type": "markdown",
      "metadata": {
        "id": "CJs41xnIt4Qv"
      },
      "source": [
        "#Sample test\n",
        "\n",
        "Find the first index of \"disco\" from given tuple."
      ]
    },
    {
      "cell_type": "code",
      "metadata": {
        "colab": {
          "base_uri": "https://localhost:8080/"
        },
        "id": "3w64NfJ3t3Pg",
        "outputId": "b219f4a8-91e2-446a-f110-5256472d01de"
      },
      "source": [
        "genres_tuple = (\"pop\", \"rock\", \"soul\", \"hard rock\", \"soft rock\", \\\n",
        "                \"R&B\", \"progressive rock\", \"disco\") \n",
        "\n",
        "genres_tuple.index('disco')"
      ],
      "execution_count": 37,
      "outputs": [
        {
          "output_type": "execute_result",
          "data": {
            "text/plain": [
              "7"
            ]
          },
          "metadata": {
            "tags": []
          },
          "execution_count": 37
        }
      ]
    },
    {
      "cell_type": "code",
      "metadata": {
        "colab": {
          "base_uri": "https://localhost:8080/"
        },
        "id": "f0X098u1x7MI",
        "outputId": "fe833952-e42e-4f9a-a54a-1e7705b7d5ab"
      },
      "source": [
        " A=((1),[2,3],[4])\n",
        "\n",
        " A[2][0]\n",
        "\n",
        " '1,2,3,4'.split(',')\n",
        " "
      ],
      "execution_count": 39,
      "outputs": [
        {
          "output_type": "execute_result",
          "data": {
            "text/plain": [
              "['1', '2', '3', '4']"
            ]
          },
          "metadata": {
            "tags": []
          },
          "execution_count": 39
        }
      ]
    },
    {
      "cell_type": "markdown",
      "metadata": {
        "id": "v1553DUax5Xq"
      },
      "source": [
        "#List\n",
        "\n",
        "Lists are **mutabl**e. **Indexing** is as same as **Tupple**.."
      ]
    },
    {
      "cell_type": "code",
      "metadata": {
        "colab": {
          "base_uri": "https://localhost:8080/"
        },
        "id": "4thbvdOW0Ori",
        "outputId": "a90aefec-c424-4c52-b511-34277cdde1d8"
      },
      "source": [
        "list=[2,3,5,'Abir',45]\n",
        "\n",
        "print(\"list before: \",list)\n",
        "\n",
        "list[3] ='reza'\n",
        "print('list after index assignment: ',list)\n",
        "\n",
        "## Because unlike Tupple, lists are mutable."
      ],
      "execution_count": 42,
      "outputs": [
        {
          "output_type": "stream",
          "text": [
            "list before:  [2, 3, 5, 'Abir', 45]\n",
            "list after index assignment:  [2, 3, 5, 'reza', 45]\n"
          ],
          "name": "stdout"
        }
      ]
    },
    {
      "cell_type": "markdown",
      "metadata": {
        "id": "MwPxfvdo1iPj"
      },
      "source": [
        "#Append vs Extend"
      ]
    },
    {
      "cell_type": "code",
      "metadata": {
        "colab": {
          "base_uri": "https://localhost:8080/"
        },
        "id": "6DXdC1Pg1nv-",
        "outputId": "4049abe5-3dc9-4a74-bfdc-27690e7d8fe6"
      },
      "source": [
        "list = ['Abir', 10,1998]\n",
        "list.extend(['Student',10])\n",
        "#extend concates list with previous list\n",
        "print(list)\n",
        "\n",
        "list1 = ['Abir', 10,1998]\n",
        "list.append(\"Reza\")\n",
        "\n",
        "#append adds only one element to the list\n",
        "print(list)"
      ],
      "execution_count": 46,
      "outputs": [
        {
          "output_type": "stream",
          "text": [
            "['Abir', 10, 1998, 'Student', 10]\n",
            "['Abir', 10, 1998, 'Student', 10, 'Reza']\n"
          ],
          "name": "stdout"
        }
      ]
    },
    {
      "cell_type": "markdown",
      "metadata": {
        "id": "ZtGfpBNN3ADL"
      },
      "source": [
        "#Delete item in list"
      ]
    },
    {
      "cell_type": "code",
      "metadata": {
        "colab": {
          "base_uri": "https://localhost:8080/"
        },
        "id": "LV43276K3ENl",
        "outputId": "8eeb7e9f-ab75-44a7-ea9d-594bffc7cd4d"
      },
      "source": [
        "list1 = ['Abir', 10,1998]\n",
        "\n",
        "del(list1[1])\n",
        "print(list1)\n",
        "\n"
      ],
      "execution_count": 50,
      "outputs": [
        {
          "output_type": "stream",
          "text": [
            "['Abir', 1998]\n"
          ],
          "name": "stdout"
        },
        {
          "output_type": "execute_result",
          "data": {
            "text/plain": [
              "list"
            ]
          },
          "metadata": {
            "tags": []
          },
          "execution_count": 50
        }
      ]
    },
    {
      "cell_type": "markdown",
      "metadata": {
        "id": "0X4jzYNi3fha"
      },
      "source": [
        "#Convert string into list \n",
        "\n",
        "##**split()**"
      ]
    },
    {
      "cell_type": "code",
      "metadata": {
        "colab": {
          "base_uri": "https://localhost:8080/"
        },
        "id": "795Igltx3tQi",
        "outputId": "2926659d-ac66-470d-81d8-4114ddfc1ff0"
      },
      "source": [
        "str = \" I study Computer Science\"\n",
        "\n",
        "print(str.split())\n",
        "\n",
        "\"A,B,C,D\".split(\",\")"
      ],
      "execution_count": 54,
      "outputs": [
        {
          "output_type": "stream",
          "text": [
            "['I', 'study', 'Computer', 'Science']\n"
          ],
          "name": "stdout"
        },
        {
          "output_type": "execute_result",
          "data": {
            "text/plain": [
              "['A', 'B', 'C', 'D']"
            ]
          },
          "metadata": {
            "tags": []
          },
          "execution_count": 54
        }
      ]
    },
    {
      "cell_type": "markdown",
      "metadata": {
        "id": "8SivIkG34zBi"
      },
      "source": [
        "#Clone list"
      ]
    },
    {
      "cell_type": "code",
      "metadata": {
        "colab": {
          "base_uri": "https://localhost:8080/"
        },
        "id": "yxL6fdSX41aQ",
        "outputId": "84b54c3c-c08b-4104-af07-8f9d14760413"
      },
      "source": [
        "A = [2,5,8]\n",
        "\n",
        "B = A[:]\n",
        "B"
      ],
      "execution_count": 56,
      "outputs": [
        {
          "output_type": "execute_result",
          "data": {
            "text/plain": [
              "[2, 5, 8]"
            ]
          },
          "metadata": {
            "tags": []
          },
          "execution_count": 56
        }
      ]
    },
    {
      "cell_type": "markdown",
      "metadata": {
        "id": "sHavou6c5Hog"
      },
      "source": [
        "#Use help(list1)\n",
        "\n",
        "It helps to find different operation can be implemented on a list ( list1)"
      ]
    },
    {
      "cell_type": "code",
      "metadata": {
        "colab": {
          "base_uri": "https://localhost:8080/"
        },
        "id": "nA9O-jCt5h4r",
        "outputId": "1217c918-736e-4acf-e500-21ec65349cb0"
      },
      "source": [
        "list1 = [2,8,10]\n",
        "help(list1)"
      ],
      "execution_count": 57,
      "outputs": [
        {
          "output_type": "stream",
          "text": [
            "Help on list object:\n",
            "\n",
            "class list(object)\n",
            " |  list(iterable=(), /)\n",
            " |  \n",
            " |  Built-in mutable sequence.\n",
            " |  \n",
            " |  If no argument is given, the constructor creates a new empty list.\n",
            " |  The argument must be an iterable if specified.\n",
            " |  \n",
            " |  Methods defined here:\n",
            " |  \n",
            " |  __add__(self, value, /)\n",
            " |      Return self+value.\n",
            " |  \n",
            " |  __contains__(self, key, /)\n",
            " |      Return key in self.\n",
            " |  \n",
            " |  __delitem__(self, key, /)\n",
            " |      Delete self[key].\n",
            " |  \n",
            " |  __eq__(self, value, /)\n",
            " |      Return self==value.\n",
            " |  \n",
            " |  __ge__(self, value, /)\n",
            " |      Return self>=value.\n",
            " |  \n",
            " |  __getattribute__(self, name, /)\n",
            " |      Return getattr(self, name).\n",
            " |  \n",
            " |  __getitem__(...)\n",
            " |      x.__getitem__(y) <==> x[y]\n",
            " |  \n",
            " |  __gt__(self, value, /)\n",
            " |      Return self>value.\n",
            " |  \n",
            " |  __iadd__(self, value, /)\n",
            " |      Implement self+=value.\n",
            " |  \n",
            " |  __imul__(self, value, /)\n",
            " |      Implement self*=value.\n",
            " |  \n",
            " |  __init__(self, /, *args, **kwargs)\n",
            " |      Initialize self.  See help(type(self)) for accurate signature.\n",
            " |  \n",
            " |  __iter__(self, /)\n",
            " |      Implement iter(self).\n",
            " |  \n",
            " |  __le__(self, value, /)\n",
            " |      Return self<=value.\n",
            " |  \n",
            " |  __len__(self, /)\n",
            " |      Return len(self).\n",
            " |  \n",
            " |  __lt__(self, value, /)\n",
            " |      Return self<value.\n",
            " |  \n",
            " |  __mul__(self, value, /)\n",
            " |      Return self*value.\n",
            " |  \n",
            " |  __ne__(self, value, /)\n",
            " |      Return self!=value.\n",
            " |  \n",
            " |  __repr__(self, /)\n",
            " |      Return repr(self).\n",
            " |  \n",
            " |  __reversed__(self, /)\n",
            " |      Return a reverse iterator over the list.\n",
            " |  \n",
            " |  __rmul__(self, value, /)\n",
            " |      Return value*self.\n",
            " |  \n",
            " |  __setitem__(self, key, value, /)\n",
            " |      Set self[key] to value.\n",
            " |  \n",
            " |  __sizeof__(self, /)\n",
            " |      Return the size of the list in memory, in bytes.\n",
            " |  \n",
            " |  append(self, object, /)\n",
            " |      Append object to the end of the list.\n",
            " |  \n",
            " |  clear(self, /)\n",
            " |      Remove all items from list.\n",
            " |  \n",
            " |  copy(self, /)\n",
            " |      Return a shallow copy of the list.\n",
            " |  \n",
            " |  count(self, value, /)\n",
            " |      Return number of occurrences of value.\n",
            " |  \n",
            " |  extend(self, iterable, /)\n",
            " |      Extend list by appending elements from the iterable.\n",
            " |  \n",
            " |  index(self, value, start=0, stop=9223372036854775807, /)\n",
            " |      Return first index of value.\n",
            " |      \n",
            " |      Raises ValueError if the value is not present.\n",
            " |  \n",
            " |  insert(self, index, object, /)\n",
            " |      Insert object before index.\n",
            " |  \n",
            " |  pop(self, index=-1, /)\n",
            " |      Remove and return item at index (default last).\n",
            " |      \n",
            " |      Raises IndexError if list is empty or index is out of range.\n",
            " |  \n",
            " |  remove(self, value, /)\n",
            " |      Remove first occurrence of value.\n",
            " |      \n",
            " |      Raises ValueError if the value is not present.\n",
            " |  \n",
            " |  reverse(self, /)\n",
            " |      Reverse *IN PLACE*.\n",
            " |  \n",
            " |  sort(self, /, *, key=None, reverse=False)\n",
            " |      Stable sort *IN PLACE*.\n",
            " |  \n",
            " |  ----------------------------------------------------------------------\n",
            " |  Static methods defined here:\n",
            " |  \n",
            " |  __new__(*args, **kwargs) from builtins.type\n",
            " |      Create and return a new object.  See help(type) for accurate signature.\n",
            " |  \n",
            " |  ----------------------------------------------------------------------\n",
            " |  Data and other attributes defined here:\n",
            " |  \n",
            " |  __hash__ = None\n",
            "\n"
          ],
          "name": "stdout"
        }
      ]
    }
  ]
}