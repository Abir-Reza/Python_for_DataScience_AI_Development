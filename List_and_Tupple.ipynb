{
  "nbformat": 4,
  "nbformat_minor": 0,
  "metadata": {
    "colab": {
      "name": "List_and_Tupple.ipynb",
      "provenance": [],
      "collapsed_sections": [],
      "authorship_tag": "ABX9TyNtl4KcCTWeDBXEKdwDAxzW",
      "include_colab_link": true
    },
    "kernelspec": {
      "name": "python3",
      "display_name": "Python 3"
    },
    "language_info": {
      "name": "python"
    }
  },
  "cells": [
    {
      "cell_type": "markdown",
      "metadata": {
        "id": "view-in-github",
        "colab_type": "text"
      },
      "source": [
        "<a href=\"https://colab.research.google.com/github/Abir-Reza/Python_for_DataScience_AI_Development/blob/master/List_and_Tupple.ipynb\" target=\"_parent\"><img src=\"https://colab.research.google.com/assets/colab-badge.svg\" alt=\"Open In Colab\"/></a>"
      ]
    },
    {
      "cell_type": "markdown",
      "metadata": {
        "id": "GJQhxk8-XC9g"
      },
      "source": [
        "#Tuples\n",
        "\n",
        "In Python, there are different data types: **string, integer and float**. These data types can all be contained in a tuple as follows"
      ]
    },
    {
      "cell_type": "code",
      "metadata": {
        "colab": {
          "base_uri": "https://localhost:8080/"
        },
        "id": "AMtNiCWaWiWi",
        "outputId": "6b399f2e-9479-49be-f6ff-3bc9708a5b78"
      },
      "source": [
        "# create tupple\n",
        "tuple1 = ('abir',2,3.6)\n",
        "\n",
        "tuple1"
      ],
      "execution_count": 1,
      "outputs": [
        {
          "output_type": "execute_result",
          "data": {
            "text/plain": [
              "('abir', 2, 3.6)"
            ]
          },
          "metadata": {
            "tags": []
          },
          "execution_count": 1
        }
      ]
    },
    {
      "cell_type": "code",
      "metadata": {
        "colab": {
          "base_uri": "https://localhost:8080/"
        },
        "id": "mQ3aamW5ajef",
        "outputId": "1a8e3b52-2d73-4925-808b-ecae476ab1ab"
      },
      "source": [
        "# data type of tuple\n",
        "type(tuple1)\n"
      ],
      "execution_count": 2,
      "outputs": [
        {
          "output_type": "execute_result",
          "data": {
            "text/plain": [
              "tuple"
            ]
          },
          "metadata": {
            "tags": []
          },
          "execution_count": 2
        }
      ]
    },
    {
      "cell_type": "markdown",
      "metadata": {
        "id": "uO8xt-FsbAOU"
      },
      "source": [
        "#Indexing\n",
        "\n",
        "Both **positive and negative** indexing avaliable.\n"
      ]
    },
    {
      "cell_type": "code",
      "metadata": {
        "colab": {
          "base_uri": "https://localhost:8080/"
        },
        "id": "WCU_D8B3a9B5",
        "outputId": "326cbfe0-5ccb-423c-a338-d677ee3276b1"
      },
      "source": [
        "tuple2 = (1,3.7, 'Reza','Computer Science',25)\n",
        "print(tuple2[0])\n",
        "print(tuple2[3])\n",
        "\n",
        "# Negative indexing\n",
        "print(tuple2[-1])\n",
        "print(tuple2[-len(tuple2)])\n",
        "\n",
        "# tuple2[-5] is the first element, while tuple[-1] is the last element\n",
        "print(tuple2[-5])"
      ],
      "execution_count": 4,
      "outputs": [
        {
          "output_type": "stream",
          "text": [
            "1\n",
            "Computer Science\n",
            "25\n",
            "1\n",
            "1\n"
          ],
          "name": "stdout"
        }
      ]
    },
    {
      "cell_type": "markdown",
      "metadata": {
        "id": "CJwiuz4lc5yu"
      },
      "source": [
        "#Concatenate Tuples\n",
        "We can concatenate or combine tuples by using the **+** sign:"
      ]
    },
    {
      "cell_type": "code",
      "metadata": {
        "colab": {
          "base_uri": "https://localhost:8080/"
        },
        "id": "BmZUrvT4cwRP",
        "outputId": "eb21c3a6-2e5a-4548-d757-47ea691f0645"
      },
      "source": [
        "tuple1 = ('abir',2,3.6)\n",
        "tuple2 = (1,3.7, 'Reza','Computer Science',25)\n",
        "tuple3= tuple1 + tuple2\n",
        "\n",
        "\n",
        "print(tuple3)"
      ],
      "execution_count": 12,
      "outputs": [
        {
          "output_type": "stream",
          "text": [
            "('abir', 2, 3.6, 1, 3.7, 'Reza', 'Computer Science', 25)\n"
          ],
          "name": "stdout"
        }
      ]
    },
    {
      "cell_type": "markdown",
      "metadata": {
        "id": "yHSGbFP9e15Q"
      },
      "source": [
        "#Slicing"
      ]
    },
    {
      "cell_type": "code",
      "metadata": {
        "colab": {
          "base_uri": "https://localhost:8080/"
        },
        "id": "GzeMQGlwe6On",
        "outputId": "a7b60286-c028-452f-fdcb-ec42dda7364f"
      },
      "source": [
        "print(tuple3[0:6])\n",
        "\n",
        "print(tuple3[2:6])\n",
        "\n",
        "#get length\n",
        "len(tuple3)\n",
        "\n"
      ],
      "execution_count": 13,
      "outputs": [
        {
          "output_type": "stream",
          "text": [
            "('abir', 2, 3.6, 1, 3.7, 'Reza')\n",
            "(3.6, 1, 3.7, 'Reza')\n"
          ],
          "name": "stdout"
        },
        {
          "output_type": "execute_result",
          "data": {
            "text/plain": [
              "8"
            ]
          },
          "metadata": {
            "tags": []
          },
          "execution_count": 13
        }
      ]
    },
    {
      "cell_type": "markdown",
      "metadata": {
        "id": "x9yso94mfbTX"
      },
      "source": [
        "#Sorting\n",
        "\n",
        "**Note:** Tupples are **immutable**. \n"
      ]
    },
    {
      "cell_type": "code",
      "metadata": {
        "colab": {
          "base_uri": "https://localhost:8080/"
        },
        "id": "cU_MN56NfdXh",
        "outputId": "3184ba01-6819-41e3-e656-7349ea23c743"
      },
      "source": [
        "# sample tuple\n",
        "\n",
        "ranking = (2,5,8,3,1,4,7)\n",
        "\n",
        "# #sort\n",
        "ratingsorted= sorted(ranking)\n",
        "\n",
        "ratingsorted\n",
        "\n",
        "\n"
      ],
      "execution_count": 25,
      "outputs": [
        {
          "output_type": "execute_result",
          "data": {
            "text/plain": [
              "[1, 2, 3, 4, 5, 7, 8]"
            ]
          },
          "metadata": {
            "tags": []
          },
          "execution_count": 25
        }
      ]
    },
    {
      "cell_type": "markdown",
      "metadata": {
        "id": "2Df1XSmOgvHh"
      },
      "source": [
        "#Nested Tuple\n",
        "\n",
        "A tuple can **contain another tuple** as well as other more complex data types. This process is called '**nesting**'. Consider the following tuple with several elements:\n",
        "\n"
      ]
    },
    {
      "cell_type": "code",
      "metadata": {
        "colab": {
          "base_uri": "https://localhost:8080/"
        },
        "id": "8s95ZeNwqcMr",
        "outputId": "36dd311f-074b-467d-f197-b2d62dff5d94"
      },
      "source": [
        "nestedTup = (1,45,('Germany', 'CAU'), 28, (2,3,6))\n",
        "\n",
        "print(len(nestedTup))\n",
        "\n",
        "print(nestedTup[2])\n",
        "print(\"Element of 4 index  2nd position is :\",nestedTup[4][1])\n",
        "\n",
        "# Print the first element in the second nested tuples\n",
        "print(\"index[2][1][0] of nestedtuple is: \", nestedTup[2][1][0])"
      ],
      "execution_count": 35,
      "outputs": [
        {
          "output_type": "stream",
          "text": [
            "5\n",
            "('Germany', 'CAU')\n",
            "Element of 4 index  2nd position is : 3\n",
            "index[2][1][0] of nestedtuple is:  C\n"
          ],
          "name": "stdout"
        }
      ]
    },
    {
      "cell_type": "markdown",
      "metadata": {
        "id": "CJs41xnIt4Qv"
      },
      "source": [
        "#Sample test\n",
        "\n",
        "Find the first index of \"disco\" from given tuple."
      ]
    },
    {
      "cell_type": "code",
      "metadata": {
        "colab": {
          "base_uri": "https://localhost:8080/"
        },
        "id": "3w64NfJ3t3Pg",
        "outputId": "b219f4a8-91e2-446a-f110-5256472d01de"
      },
      "source": [
        "genres_tuple = (\"pop\", \"rock\", \"soul\", \"hard rock\", \"soft rock\", \\\n",
        "                \"R&B\", \"progressive rock\", \"disco\") \n",
        "\n",
        "genres_tuple.index('disco')"
      ],
      "execution_count": 37,
      "outputs": [
        {
          "output_type": "execute_result",
          "data": {
            "text/plain": [
              "7"
            ]
          },
          "metadata": {
            "tags": []
          },
          "execution_count": 37
        }
      ]
    }
  ]
}