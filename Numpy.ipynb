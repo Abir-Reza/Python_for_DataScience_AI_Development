{
  "nbformat": 4,
  "nbformat_minor": 0,
  "metadata": {
    "colab": {
      "name": "Numpy.ipynb",
      "provenance": [],
      "collapsed_sections": [],
      "authorship_tag": "ABX9TyOxVndV4aMxMw8YXzUvdyTO",
      "include_colab_link": true
    },
    "kernelspec": {
      "name": "python3",
      "display_name": "Python 3"
    },
    "language_info": {
      "name": "python"
    }
  },
  "cells": [
    {
      "cell_type": "markdown",
      "metadata": {
        "id": "view-in-github",
        "colab_type": "text"
      },
      "source": [
        "<a href=\"https://colab.research.google.com/github/Abir-Reza/Python_for_DataScience_AI_Development/blob/master/Numpy.ipynb\" target=\"_parent\"><img src=\"https://colab.research.google.com/assets/colab-badge.svg\" alt=\"Open In Colab\"/></a>"
      ]
    },
    {
      "cell_type": "code",
      "metadata": {
        "id": "V9aP0_YyVVov"
      },
      "source": [
        "import numpy as np"
      ],
      "execution_count": 1,
      "outputs": []
    },
    {
      "cell_type": "code",
      "metadata": {
        "colab": {
          "base_uri": "https://localhost:8080/"
        },
        "id": "Asdd1eTBViNf",
        "outputId": "5e17feb1-8e5a-48e9-ca5a-35543731b851"
      },
      "source": [
        "# python list\n",
        "a= [\"0\",2,\"Three\",\"3\",4]\n",
        "\n",
        "print(a[0])\n",
        "print(a[1])\n",
        "print(a[2])\n",
        "print(a[3])\n",
        "print(a[4])"
      ],
      "execution_count": 7,
      "outputs": [
        {
          "output_type": "stream",
          "text": [
            "0\n",
            "2\n",
            "Three\n",
            "3\n",
            "4\n"
          ],
          "name": "stdout"
        }
      ]
    },
    {
      "cell_type": "code",
      "metadata": {
        "colab": {
          "base_uri": "https://localhost:8080/"
        },
        "id": "YuId0WYMXNoA",
        "outputId": "6855f806-827e-497f-abe6-ab33fcf3927a"
      },
      "source": [
        "#Numpy array\n",
        "\n",
        "a= np.array([0,1,2,3,4])\n",
        "print(a)\n",
        "\n",
        "#print each element\n",
        "print(\"1 : \",a[0])\n",
        "print(\"2 : \",a[1])\n",
        "print(\"3 : \",a[2])\n",
        "print(\"4 : \",a[3])\n",
        "print(\"5 : \",a[4])"
      ],
      "execution_count": 9,
      "outputs": [
        {
          "output_type": "stream",
          "text": [
            "[0 1 2 3 4]\n",
            "1 :  0\n",
            "2 :  1\n",
            "3 :  2\n",
            "4 :  3\n",
            "5 :  4\n"
          ],
          "name": "stdout"
        }
      ]
    },
    {
      "cell_type": "markdown",
      "metadata": {
        "id": "vNm8fEK3XzHA"
      },
      "source": [
        "##Type"
      ]
    },
    {
      "cell_type": "code",
      "metadata": {
        "colab": {
          "base_uri": "https://localhost:8080/"
        },
        "id": "y6BtqkAMX0v5",
        "outputId": "5deccc24-7e78-4190-9ddc-b8ebb5b3cb2e"
      },
      "source": [
        "#Type of array\n",
        "print(type(a))\n",
        "\n",
        "#data type of the value stored in array\n",
        "print(a.dtype)\n",
        "\n",
        "#array size\n",
        "print(a.size)\n",
        "\n",
        "#Dimensions\n",
        "print(a.ndim)\n",
        "\n",
        "#Shape\n",
        "print(a.shape)\n",
        "\n",
        "#Mean value\n",
        "mean =a.mean()\n",
        "print(mean)\n",
        "\n",
        "#standard deviation\n",
        "standard_deviation = a.std()\n",
        "print(standard_deviation)\n",
        "\n",
        "#max\n",
        "print(a.max())\n",
        "\n",
        "#min\n",
        "print(a.min())\n",
        "\n"
      ],
      "execution_count": 21,
      "outputs": [
        {
          "output_type": "stream",
          "text": [
            "<class 'numpy.ndarray'>\n",
            "int64\n",
            "5\n",
            "1\n",
            "(5,)\n",
            "2.0\n",
            "1.4142135623730951\n",
            "4\n"
          ],
          "name": "stdout"
        }
      ]
    },
    {
      "cell_type": "markdown",
      "metadata": {
        "id": "1Dwrm2WdZ4tv"
      },
      "source": [
        "##Numpy arrray operation"
      ]
    },
    {
      "cell_type": "code",
      "metadata": {
        "id": "GayUZJkZZ8IY"
      },
      "source": [
        "\n",
        "#Addition \n",
        "u= np.array([1,0])\n",
        "v= np.array([0,1])\n",
        "z= u+v"
      ],
      "execution_count": 25,
      "outputs": []
    },
    {
      "cell_type": "code",
      "metadata": {
        "id": "nBM_XbTHcdve"
      },
      "source": [
        "#plot\n",
        "import time \n",
        "import sys \n",
        "import matplotlib.pyplot as plt\n",
        "%matplotlib inline \n",
        "\n",
        "# Plotting functions\n",
        "def plotvec1(u, z, v):\n",
        "    \n",
        "    ax = plt.axes()\n",
        "    ax.arrow(0, 0, *u, head_width=0.05, color='r', head_length=0.1)\n",
        "    plt.text(*(u + 0.1), 'u')\n",
        "    \n",
        "    ax.arrow(0, 0, *v, head_width=0.05, color='b', head_length=0.1)\n",
        "    plt.text(*(v + 0.1), 'v')\n",
        "    ax.arrow(0, 0, *z, head_width=0.05, head_length=0.1)\n",
        "    plt.text(*(z + 0.1), 'z')\n",
        "    plt.ylim(-2, 2)\n",
        "    plt.xlim(-2, 2)\n",
        "\n",
        "def plotvec2(a,b):\n",
        "    ax = plt.axes()\n",
        "    ax.arrow(0, 0, *a, head_width=0.05, color ='r', head_length=0.1)\n",
        "    plt.text(*(a + 0.1), 'a')\n",
        "    ax.arrow(0, 0, *b, head_width=0.05, color ='b', head_length=0.1)\n",
        "    plt.text(*(b + 0.1), 'b')\n",
        "    plt.ylim(-2, 2)\n",
        "    plt.xlim(-2, 2)"
      ],
      "execution_count": 30,
      "outputs": []
    },
    {
      "cell_type": "code",
      "metadata": {
        "colab": {
          "base_uri": "https://localhost:8080/",
          "height": 269
        },
        "id": "eqxJrdYtcrKw",
        "outputId": "c8802017-d497-4fc3-cc03-5f74b2621be4"
      },
      "source": [
        "plotvec1(u,z,v)"
      ],
      "execution_count": 31,
      "outputs": [
        {
          "output_type": "display_data",
          "data": {
            "image/png": "[encoded data removed]",
            "text/plain": [
              "<Figure size 432x288 with 1 Axes>"
            ]
          },
          "metadata": {
            "tags": [],
            "needs_background": "light"
          }
        }
      ]
    },
    {
      "cell_type": "code",
      "metadata": {
        "colab": {
          "base_uri": "https://localhost:8080/"
        },
        "id": "nzCufHHzcsVW",
        "outputId": "1d9aa904-1f72-4eb5-e6e8-91523f708a4b"
      },
      "source": [
        "#Multiplication\n",
        "y = np.array([1, 2])\n",
        "z = 2 * y\n",
        "print(\"z =2*y : \",z)\n",
        "print(\"z*y\", (z*y))"
      ],
      "execution_count": 35,
      "outputs": [
        {
          "output_type": "stream",
          "text": [
            "z =2*y :  [2 4]\n",
            "z*y [2 8]\n"
          ],
          "name": "stdout"
        }
      ]
    },
    {
      "cell_type": "markdown",
      "metadata": {
        "id": "Cnd0Ba3WdeFt"
      },
      "source": [
        "##Dot product"
      ]
    },
    {
      "cell_type": "code",
      "metadata": {
        "colab": {
          "base_uri": "https://localhost:8080/"
        },
        "id": "ELfbrT8pdgqg",
        "outputId": "9c96db6a-336f-496a-9143-09489b8cf523"
      },
      "source": [
        "#dot production is linear combination of vectors\n",
        "np.dot(y,z)"
      ],
      "execution_count": 37,
      "outputs": [
        {
          "output_type": "execute_result",
          "data": {
            "text/plain": [
              "10"
            ]
          },
          "metadata": {
            "tags": []
          },
          "execution_count": 37
        }
      ]
    },
    {
      "cell_type": "code",
      "metadata": {
        "colab": {
          "base_uri": "https://localhost:8080/"
        },
        "id": "dBF3bLlLd_HA",
        "outputId": "e0337faf-49c4-4da6-c2dc-e11a4a263122"
      },
      "source": [
        "#add constant to numpy array\n",
        "u= np.array([1,2,5,8])\n",
        "u+1"
      ],
      "execution_count": 38,
      "outputs": [
        {
          "output_type": "execute_result",
          "data": {
            "text/plain": [
              "array([2, 3, 6, 9])"
            ]
          },
          "metadata": {
            "tags": []
          },
          "execution_count": 38
        }
      ]
    },
    {
      "cell_type": "markdown",
      "metadata": {
        "id": "krNwLQQqeWgQ"
      },
      "source": [
        "##Mathematical functions"
      ]
    },
    {
      "cell_type": "code",
      "metadata": {
        "colab": {
          "base_uri": "https://localhost:8080/"
        },
        "id": "c2uTwZRFeVZr",
        "outputId": "cb803025-15e7-4d6e-c2fe-6eddccbadbf6"
      },
      "source": [
        "np.pi"
      ],
      "execution_count": 39,
      "outputs": [
        {
          "output_type": "execute_result",
          "data": {
            "text/plain": [
              "3.141592653589793"
            ]
          },
          "metadata": {
            "tags": []
          },
          "execution_count": 39
        }
      ]
    },
    {
      "cell_type": "code",
      "metadata": {
        "colab": {
          "base_uri": "https://localhost:8080/"
        },
        "id": "98bW6wCeedKX",
        "outputId": "d3ac8794-867d-49e9-953e-d048829ba74b"
      },
      "source": [
        "x = np.array([0, np.pi/2 , np.pi])\n",
        "np.sin(x)"
      ],
      "execution_count": 40,
      "outputs": [
        {
          "output_type": "execute_result",
          "data": {
            "text/plain": [
              "array([0.0000000e+00, 1.0000000e+00, 1.2246468e-16])"
            ]
          },
          "metadata": {
            "tags": []
          },
          "execution_count": 40
        }
      ]
    },
    {
      "cell_type": "markdown",
      "metadata": {
        "id": "v8nKXnryerUD"
      },
      "source": [
        "##Linespace\n",
        "\n",
        " A useful function for **plotting mathematical functions** is <code>linspace</code>.   Linspace returns **evenly spaced numbers** over a **specified interval**. We specify the **starting point** of the sequence and the **ending point** of the sequence. The parameter \"**num\" indicate**s the **Number of samples to generate**, in this case 5:"
      ]
    },
    {
      "cell_type": "code",
      "metadata": {
        "colab": {
          "base_uri": "https://localhost:8080/"
        },
        "id": "SsaCPQ_0eumM",
        "outputId": "a65e4464-54a5-4b2c-8cef-df92aedb4c8c"
      },
      "source": [
        "# Makeup a numpy array within [-2, 2] and 5 elements\n",
        "np.linspace(-2, 2, num=5)"
      ],
      "execution_count": 41,
      "outputs": [
        {
          "output_type": "execute_result",
          "data": {
            "text/plain": [
              "array([-2., -1.,  0.,  1.,  2.])"
            ]
          },
          "metadata": {
            "tags": []
          },
          "execution_count": 41
        }
      ]
    },
    {
      "cell_type": "code",
      "metadata": {
        "id": "BQyXZpK3fZpJ"
      },
      "source": [
        "# Makeup a numpy array within [0, 2π] and 100 elements \n",
        "\n",
        "x = np.linspace(0, 2*np.pi, num=100)"
      ],
      "execution_count": 42,
      "outputs": []
    },
    {
      "cell_type": "code",
      "metadata": {
        "colab": {
          "base_uri": "https://localhost:8080/",
          "height": 282
        },
        "id": "PzKjrT1ffaif",
        "outputId": "59bbebce-1175-4269-e92a-112817bbe609"
      },
      "source": [
        "# Calculate the sine of x list\n",
        "\n",
        "y = np.sin(x)\n",
        "\n",
        "#plot\n",
        "plt.plot(x,y)"
      ],
      "execution_count": 44,
      "outputs": [
        {
          "output_type": "execute_result",
          "data": {
            "text/plain": [
              "[<matplotlib.lines.Line2D at 0x7f23aa32a090>]"
            ]
          },
          "metadata": {
            "tags": []
          },
          "execution_count": 44
        },
        {
          "output_type": "display_data",
          "data": {
            "image/png": "[encoded data removed]",
            "text/plain": [
              "<Figure size 432x288 with 1 Axes>"
            ]
          },
          "metadata": {
            "tags": [],
            "needs_background": "light"
          }
        }
      ]
    },
    {
      "cell_type": "markdown",
      "metadata": {
        "id": "RdDSw6e5iRM5"
      },
      "source": [
        "##2D numpy array\n",
        "\n",
        "We can also add arrays. The process is identical to matrix addition. Matrix addition of <code>X</code> and <code>Y</code> is shown in the following figure:\n",
        "\n",
        "<img src=\"https://cf-courses-data.s3.us.cloud-object-storage.appdomain.cloud/IBMDeveloperSkillsNetwork-PY0101EN-SkillsNetwork/labs/Module%205/images/NumTwoAdd.png\" width=\"500\" />"
      ]
    },
    {
      "cell_type": "code",
      "metadata": {
        "colab": {
          "base_uri": "https://localhost:8080/"
        },
        "id": "SqcL48psiU51",
        "outputId": "8cc5ba29-ae95-4881-b251-f3793207c9b0"
      },
      "source": [
        "X = np.array([[1, 0], [0, 1]])\n",
        "Y = np.array([[2, 1], [1, 2]]) \n",
        "# Add X and Y\n",
        "\n",
        "Z = X + Y\n",
        "Z "
      ],
      "execution_count": 45,
      "outputs": [
        {
          "output_type": "execute_result",
          "data": {
            "text/plain": [
              "array([[3, 1],\n",
              "       [1, 3]])"
            ]
          },
          "metadata": {
            "tags": []
          },
          "execution_count": 45
        }
      ]
    },
    {
      "cell_type": "markdown",
      "metadata": {
        "id": "_oOnJSOdi3oV"
      },
      "source": [
        "Multiplication of two arrays corresponds to an **element-wise product** or **Hadamard product**. Consider matrix <code>X</code> and <code>Y</code>. The **Hadamard product** corresponds to **multiplying each of the elements in the same position**, i.e. multiplying elements contained in the same color boxes together. The result is a new matrix that is the same size as matrix <code>Y</code> or <code>X</code>, as shown in the following figure.\n",
        "\n",
        "<img src=\"https://cf-courses-data.s3.us.cloud-object-storage.appdomain.cloud/IBMDeveloperSkillsNetwork-PY0101EN-SkillsNetwork/labs/Module%205/images/NumTwoMul.png\" width=\"500\" />"
      ]
    },
    {
      "cell_type": "code",
      "metadata": {
        "colab": {
          "base_uri": "https://localhost:8080/"
        },
        "id": "lmQ_nF9Wi6xn",
        "outputId": "8a2513d0-9df0-4724-8516-8a025934b9ba"
      },
      "source": [
        "# Multiply X with Y\n",
        "\n",
        "Z = X * Y\n",
        "Z"
      ],
      "execution_count": 46,
      "outputs": [
        {
          "output_type": "execute_result",
          "data": {
            "text/plain": [
              "array([[2, 0],\n",
              "       [0, 2]])"
            ]
          },
          "metadata": {
            "tags": []
          },
          "execution_count": 46
        }
      ]
    },
    {
      "cell_type": "markdown",
      "metadata": {
        "id": "NoN1IOJHjdNb"
      },
      "source": [
        "##Dot product"
      ]
    },
    {
      "cell_type": "code",
      "metadata": {
        "colab": {
          "base_uri": "https://localhost:8080/"
        },
        "id": "DTIq8G4ajZjD",
        "outputId": "b7270dde-4e51-4225-a5e7-2e144cd21b78"
      },
      "source": [
        "# Calculate the dot product\n",
        "\n",
        "Z = np.dot(X,Y)\n",
        "Z"
      ],
      "execution_count": 48,
      "outputs": [
        {
          "output_type": "execute_result",
          "data": {
            "text/plain": [
              "array([[2, 1],\n",
              "       [1, 2]])"
            ]
          },
          "metadata": {
            "tags": []
          },
          "execution_count": 48
        }
      ]
    },
    {
      "cell_type": "code",
      "metadata": {
        "colab": {
          "base_uri": "https://localhost:8080/"
        },
        "id": "o-_HOQApkO3x",
        "outputId": "ee04301a-ff6b-4127-cdc6-9082161049d1"
      },
      "source": [
        "# Create a matrix C\n",
        "\n",
        "C = np.array([[1,1],[2,2],[3,3]])\n",
        "C"
      ],
      "execution_count": 49,
      "outputs": [
        {
          "output_type": "execute_result",
          "data": {
            "text/plain": [
              "array([[1, 1],\n",
              "       [2, 2],\n",
              "       [3, 3]])"
            ]
          },
          "metadata": {
            "tags": []
          },
          "execution_count": 49
        }
      ]
    },
    {
      "cell_type": "code",
      "metadata": {
        "colab": {
          "base_uri": "https://localhost:8080/"
        },
        "id": "KY8VdnM1kRuT",
        "outputId": "d12991c4-afa1-480b-9101-8c68234586c5"
      },
      "source": [
        "# Get the transposed of C\n",
        "\n",
        "C.T"
      ],
      "execution_count": 50,
      "outputs": [
        {
          "output_type": "execute_result",
          "data": {
            "text/plain": [
              "array([[1, 2, 3],\n",
              "       [1, 2, 3]])"
            ]
          },
          "metadata": {
            "tags": []
          },
          "execution_count": 50
        }
      ]
    }
  ]
}