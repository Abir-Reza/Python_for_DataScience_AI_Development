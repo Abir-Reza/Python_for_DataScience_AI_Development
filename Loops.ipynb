{
  "nbformat": 4,
  "nbformat_minor": 0,
  "metadata": {
    "colab": {
      "name": "Loops.ipynb",
      "provenance": [],
      "authorship_tag": "ABX9TyPPF/JbI48FjmwcPPE0wggm",
      "include_colab_link": true
    },
    "kernelspec": {
      "name": "python3",
      "display_name": "Python 3"
    },
    "language_info": {
      "name": "python"
    }
  },
  "cells": [
    {
      "cell_type": "markdown",
      "metadata": {
        "id": "view-in-github",
        "colab_type": "text"
      },
      "source": [
        "<a href=\"https://colab.research.google.com/github/Abir-Reza/Python_for_DataScience_AI_Development/blob/master/Loops.ipynb\" target=\"_parent\"><img src=\"https://colab.research.google.com/assets/colab-badge.svg\" alt=\"Open In Colab\"/></a>"
      ]
    },
    {
      "cell_type": "markdown",
      "metadata": {
        "id": "O6rGrOtXbO-A"
      },
      "source": [
        "#Range\n",
        "Sometimes, you might want to repeat a given operation many times. Repeated executions like this are performed by loops. We will look at two types of loops, for loops and while loops.\n",
        "\n",
        "Before we discuss loops lets discuss the range object. It is helpful to think of the range object as an ordered list. For now, let's look at the simplest case. If we would like to generate an object that contains elements ordered from 0 to 2 we simply use the following command:"
      ]
    },
    {
      "cell_type": "markdown",
      "metadata": {
        "id": "ua-H6m_kbsNa"
      },
      "source": [
        "#For loop"
      ]
    },
    {
      "cell_type": "code",
      "metadata": {
        "colab": {
          "base_uri": "https://localhost:8080/"
        },
        "id": "nAHSSHBXa7k5",
        "outputId": "c0b58073-a652-4d7d-8c26-da3f1da02e1a"
      },
      "source": [
        "dates=[1990,2003,2010]\n",
        "\n",
        "N = len(dates)\n",
        "\n",
        "for i in range(N):\n",
        "  print(dates[i])"
      ],
      "execution_count": 1,
      "outputs": [
        {
          "output_type": "stream",
          "text": [
            "1990\n",
            "2003\n",
            "2010\n"
          ],
          "name": "stdout"
        }
      ]
    },
    {
      "cell_type": "markdown",
      "metadata": {
        "id": "YvmRaY40cLy9"
      },
      "source": [
        "**Print out a sequence of numbers from 0 to 7:**"
      ]
    },
    {
      "cell_type": "code",
      "metadata": {
        "colab": {
          "base_uri": "https://localhost:8080/"
        },
        "id": "3eNFdE4GcQ-5",
        "outputId": "b37ce52e-0b4d-4bb6-c9b0-c1062e0c4c9e"
      },
      "source": [
        "for i in range(8):\n",
        "  print(i)"
      ],
      "execution_count": 2,
      "outputs": [
        {
          "output_type": "stream",
          "text": [
            "0\n",
            "1\n",
            "2\n",
            "3\n",
            "4\n",
            "5\n",
            "6\n",
            "7\n"
          ],
          "name": "stdout"
        }
      ]
    },
    {
      "cell_type": "markdown",
      "metadata": {
        "id": "wgUutuoucguJ"
      },
      "source": [
        "Print out a sequence of numbers from **5 to 7:**"
      ]
    },
    {
      "cell_type": "code",
      "metadata": {
        "colab": {
          "base_uri": "https://localhost:8080/"
        },
        "id": "ZBKZSe7rckiy",
        "outputId": "c7959309-7dc2-46f4-dec2-9cf05e08a799"
      },
      "source": [
        "for i in range(5,8):\n",
        "  print(i)"
      ],
      "execution_count": 3,
      "outputs": [
        {
          "output_type": "stream",
          "text": [
            "5\n",
            "6\n",
            "7\n"
          ],
          "name": "stdout"
        }
      ]
    },
    {
      "cell_type": "markdown",
      "metadata": {
        "id": "dMmqktE6cw39"
      },
      "source": [
        "# For loop **without range**/ only **with list**"
      ]
    },
    {
      "cell_type": "code",
      "metadata": {
        "colab": {
          "base_uri": "https://localhost:8080/"
        },
        "id": "vRYc-tIGdBGb",
        "outputId": "63d45aa6-af55-4ff3-ff82-05f95b19a921"
      },
      "source": [
        "subjects= [\"math\",\"informatik\", \"physics\"]\n",
        "\n",
        "for item in subjects:\n",
        "  print(item)"
      ],
      "execution_count": 4,
      "outputs": [
        {
          "output_type": "stream",
          "text": [
            "math\n",
            "informatik\n",
            "physics\n"
          ],
          "name": "stdout"
        }
      ]
    },
    {
      "cell_type": "markdown",
      "metadata": {
        "id": "Y4l-bHrIhGJ3"
      },
      "source": [
        "#**Traverse every elemen**t in the list and **Change element** in list"
      ]
    },
    {
      "cell_type": "code",
      "metadata": {
        "colab": {
          "base_uri": "https://localhost:8080/"
        },
        "id": "Jvsk0CgJdbmK",
        "outputId": "3be39e3a-da42-4f4c-8c72-1eb1c5f0e3ad"
      },
      "source": [
        "colors= ['red','blue','black', 'yellow']\n",
        "\n",
        "for i in range(0,4):\n",
        "  print(\"Before change : \",i,colors[i])\n",
        "  colors[i] ='white'\n",
        "\n",
        "  print('After change : ',i,colors[i])  "
      ],
      "execution_count": 12,
      "outputs": [
        {
          "output_type": "stream",
          "text": [
            "Before change :  0 red\n",
            "After change :  0 white\n",
            "Before change :  1 blue\n",
            "After change :  1 white\n",
            "Before change :  2 black\n",
            "After change :  2 white\n",
            "Before change :  3 yellow\n",
            "After change :  3 white\n"
          ],
          "name": "stdout"
        }
      ]
    },
    {
      "cell_type": "code",
      "metadata": {
        "colab": {
          "base_uri": "https://localhost:8080/"
        },
        "id": "Ha7dYzI3i7m_",
        "outputId": "32111f89-3cf1-4939-f131-8b3e2b92cf9c"
      },
      "source": [
        "# Loop through the list and iterate on both index \n",
        "#and element value\n",
        "\n",
        "colors= ['red','blue','black', 'yellow']\n",
        "\n",
        "for index,item in enumerate(colors):\n",
        "  print('list index : ',index,item)\n",
        "\n",
        "  "
      ],
      "execution_count": 11,
      "outputs": [
        {
          "output_type": "stream",
          "text": [
            "list index :  0 red\n",
            "list index :  1 blue\n",
            "list index :  2 black\n",
            "list index :  3 yellow\n"
          ],
          "name": "stdout"
        }
      ]
    },
    {
      "cell_type": "markdown",
      "metadata": {
        "id": "abb5yGVWj2os"
      },
      "source": [
        "#While loop"
      ]
    },
    {
      "cell_type": "code",
      "metadata": {
        "colab": {
          "base_uri": "https://localhost:8080/"
        },
        "id": "AuiJ3Dh9j7ME",
        "outputId": "58710bb6-38d5-4f43-8a2e-150d197f53d0"
      },
      "source": [
        "year= [1947,1952,1971,2000]\n",
        "\n",
        "i =0\n",
        "time = year[0]\n",
        "\n",
        "while(time != 1971):\n",
        "  print('No peace')\n",
        "  i=i+1\n",
        "  time = year[i]\n",
        "\n",
        "print(\"break loop\")  \n",
        "  "
      ],
      "execution_count": 14,
      "outputs": [
        {
          "output_type": "stream",
          "text": [
            "No peace\n",
            "No peace\n",
            "break loop\n"
          ],
          "name": "stdout"
        }
      ]
    },
    {
      "cell_type": "markdown",
      "metadata": {
        "id": "9lIe4uZ1lZ6X"
      },
      "source": [
        "#Quiz"
      ]
    },
    {
      "cell_type": "code",
      "metadata": {
        "id": "1ZUSELS0lbra"
      },
      "source": [
        "# Write your code below and press Shift+Enter to execute\n",
        "for i in range(-5,6):\n",
        "    print(i)"
      ],
      "execution_count": null,
      "outputs": []
    },
    {
      "cell_type": "code",
      "metadata": {
        "colab": {
          "base_uri": "https://localhost:8080/"
        },
        "id": "hvhyKZ_Tp99x",
        "outputId": "716918a1-a9be-4a4a-fe74-a2a682f04aa7"
      },
      "source": [
        "#Write a while loop to display the values of the Rating of an album \n",
        "#playlist stored in the list PlayListRatings. \n",
        "#If the score is less than 6, exit the loop.\n",
        "\n",
        "PlayListRatings = [10, 9.5, 10, 8, 7.5, 5, 10, 10]\n",
        "i = 1\n",
        "Rating = PlayListRatings[0]\n",
        "while(i < len(PlayListRatings) and Rating >= 6):\n",
        "    print(Rating)\n",
        "    Rating = PlayListRatings[i]\n",
        "    i = i + 1\n",
        "    "
      ],
      "execution_count": 33,
      "outputs": [
        {
          "output_type": "stream",
          "text": [
            "10\n",
            "9.5\n",
            "10\n",
            "8\n",
            "7.5\n"
          ],
          "name": "stdout"
        }
      ]
    },
    {
      "cell_type": "code",
      "metadata": {
        "colab": {
          "base_uri": "https://localhost:8080/"
        },
        "id": "VUaP32UTmgGm",
        "outputId": "fe46d106-c047-4149-e11e-a65fb2ca856d"
      },
      "source": [
        "#print all values above 6, with while loop  \n",
        "\n",
        "PlayListRatings = [10, 9.5, 10, 8, 7.5, 5, 10, 10]\n",
        "\n",
        "sortedlist= sorted(PlayListRatings)\n",
        "print(sortedlist)\n",
        "i= len(sortedlist)\n",
        "list1 =sortedlist[i-1]\n",
        "\n",
        "while(list1 >6) :\n",
        "  print(list1)\n",
        "  i= i-1\n",
        "  list1 = sortedlist[i-1]\n",
        "\n",
        "print('break loop')"
      ],
      "execution_count": 34,
      "outputs": [
        {
          "output_type": "stream",
          "text": [
            "[5, 7.5, 8, 9.5, 10, 10, 10, 10]\n",
            "10\n",
            "10\n",
            "10\n",
            "10\n",
            "9.5\n",
            "8\n",
            "7.5\n",
            "break loop\n"
          ],
          "name": "stdout"
        }
      ]
    },
    {
      "cell_type": "code",
      "metadata": {
        "colab": {
          "base_uri": "https://localhost:8080/"
        },
        "id": "5RExklxsqijS",
        "outputId": "66a98a16-722e-404a-8104-d900184f3f75"
      },
      "source": [
        "#Write a while loop to copy the strings 'orange' \n",
        "#of the list squares to the list new_squares. \n",
        "#Stop and exit the loop if the value on the list is not 'orange':\n",
        "\n",
        "squares = ['orange', 'orange', 'purple', 'blue ', 'orange']\n",
        "new_squares = []\n",
        "i = 0\n",
        "\n",
        "while(i<len(squares) and squares[i]=='orange'):\n",
        "  new_squares.append(squares[i])\n",
        "  i= i+1\n",
        "\n",
        "print('loop breaks')\n",
        "new_squares"
      ],
      "execution_count": 38,
      "outputs": [
        {
          "output_type": "stream",
          "text": [
            "loop breaks\n"
          ],
          "name": "stdout"
        },
        {
          "output_type": "execute_result",
          "data": {
            "text/plain": [
              "['orange', 'orange']"
            ]
          },
          "metadata": {
            "tags": []
          },
          "execution_count": 38
        }
      ]
    }
  ]
}